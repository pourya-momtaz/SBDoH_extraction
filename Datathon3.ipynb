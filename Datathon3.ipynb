{
 "cells": [
  {
   "cell_type": "code",
   "execution_count": 1,
   "metadata": {},
   "outputs": [],
   "source": [
    "import psycopg2\n",
    "import csv\n",
    "\n",
    "conn = psycopg2.connect(\n",
    "    host=\"localhost\",\n",
    "    database=\"mimiciv\",\n",
    "    user=\"postgres\",\n",
    "    password=\"GetPostgres1401\"\n",
    ")\n",
    "\n",
    "cur = conn.cursor()"
   ]
  },
  {
   "cell_type": "code",
   "execution_count": 2,
   "metadata": {},
   "outputs": [],
   "source": [
    "cur.execute(\"SELECT text FROM mimiciv_note.discharge\")\n",
    "\n",
    "discharge_data = cur.fetchall()\n",
    "\n",
    "cur.close()\n",
    "conn.close()"
   ]
  },
  {
   "cell_type": "code",
   "execution_count": 5,
   "metadata": {},
   "outputs": [
    {
     "name": "stdout",
     "output_type": "stream",
     "text": [
      "Discharge Data's first row:\n",
      " \n",
      "Name:  ___                     Unit No:   ___\n",
      " \n",
      "Admission Date:  ___              Discharge Date:   ___\n",
      " \n",
      "Date of Birth:  ___             Sex:   F\n",
      " \n",
      "Service: MEDICINE\n",
      " \n",
      "Allergies: \n",
      "No Known Allergies / Adverse Drug Reactions\n",
      " \n",
      "Attending: ___\n",
      " \n",
      "Chief Complaint:\n",
      "Worsening ABD distension and pain \n",
      " \n",
      "Major Surgical or Invasive Procedure:\n",
      "Paracentesis\n",
      "\n",
      " \n",
      "History of Present Illness:\n",
      "___ HCV cirrhosis c/b ascites, hiv on ART, h/o IVDU, COPD, \n",
      "bioplar, PTSD, presented from OSH ED with worsening abd \n",
      "distension over past week.  \n",
      "Pt reports self-discontinuing lasix and spirnolactone ___ weeks \n",
      "ago, because she feels like \"they don't do anything\" and that \n",
      "she \"doesn't want to put more chemicals in her.\" She does not \n",
      "follow Na-restricted diets. In the past week, she notes that she \n",
      "has been having worsening abd distension and discomfort. She \n",
      "denies ___ edema, or SOB, or orthopnea. She denies f/c/n/v, d/c, \n",
      "dysuria. She had food poisoning a week ago from eating stale \n",
      "cake (n/v 20 min after food ingestion), which resolved the same \n",
      "day. She denies other recent illness or sick contacts. She notes \n",
      "that she has been noticing gum bleeding while brushing her teeth \n",
      "in recent weeks. she denies easy bruising, melena, BRBPR, \n",
      "hemetesis, hemoptysis, or hematuria.  \n",
      "Because of her abd pain, she went to OSH ED and was transferred \n",
      "to ___ for further care. Per ED report, pt has brief period of \n",
      "confusion - she did not recall the ultrasound or bloodwork at \n",
      "osh. She denies recent drug use or alcohol use. She denies \n",
      "feeling confused, but reports that she is forgetful at times.  \n",
      "In the ED, initial vitals were 98.4 70 106/63 16 97%RA  \n",
      "Labs notable for ALT/AST/AP ___ ___: ___, \n",
      "Tbili1.6, WBC 5K, platelet 77, INR 1.6  \n",
      "\n",
      " \n",
      "Past Medical History:\n",
      "1. HCV Cirrhosis  \n",
      "2. No history of abnormal Pap smears.  \n",
      "3. She had calcification in her breast, which was removed  \n",
      "previously and per patient not, it was benign.  \n",
      "4. For HIV disease, she is being followed by Dr. ___ Dr.  \n",
      "___.  \n",
      "5. COPD  \n",
      "6. Past history of smoking.  \n",
      "7. She also had a skin lesion, which was biopsied and showed  \n",
      "skin cancer per patient report and is scheduled for a complete  \n",
      "removal of the skin lesion in ___ of this year.  \n",
      "8. She also had another lesion in her forehead with purple  \n",
      "discoloration. It was biopsied to exclude the possibility of  \n",
      "___'s sarcoma, the results is pending.  \n",
      "9. A 15 mm hypoechoic lesion on her ultrasound on ___  \n",
      "and is being monitored by an MRI.  \n",
      "10. History of dysplasia of anus in ___.  \n",
      "11. Bipolar affective disorder, currently manic, mild, and PTSD. \n",
      " \n",
      "12. History of cocaine and heroin use.  \n",
      "\n",
      " \n",
      "Social History:\n",
      "___\n",
      "Family History:\n",
      "She a total of five siblings, but she is not  \n",
      "talking to most of them. She only has one brother that she is in \n",
      " \n",
      "touch with and lives in ___. She is not aware of any  \n",
      "known GI or liver disease in her family.  \n",
      "Her last alcohol consumption was one drink two months ago. No  \n",
      "regular alcohol consumption. Last drug use ___ years ago. She  \n",
      "quit smoking a couple of years ago.  \n",
      "\n",
      " \n",
      "Physical Exam:\n",
      "VS: 98.1 107/61 78 18 97RA  \n",
      "General: in NAD  \n",
      "HEENT: CTAB, anicteric sclera, OP clear  \n",
      "Neck: supple, no LAD  \n",
      "CV: RRR,S1S2, no m/r/g  \n",
      "Lungs: CTAb, prolonged expiratory phase, no w/r/r  \n",
      "Abdomen: distended, mild diffuse tenderness, +flank dullness, \n",
      "cannot percuss liver/spleen edge ___ distension  \n",
      "GU: no foley  \n",
      "Ext: wwp, no c/e/e, + clubbing  \n",
      "Neuro: AAO3, converse normally, able to recall 3 times after 5 \n",
      "minutes, CN II-XII intact  \n",
      "\n",
      "Discharge:\n",
      "\n",
      "PHYSICAL EXAMINATION:  \n",
      "VS: 98 105/70 95\n",
      "General: in NAD  \n",
      "HEENT: anicteric sclera, OP clear  \n",
      "Neck: supple, no LAD  \n",
      "CV: RRR,S1S2, no m/r/g  \n",
      "Lungs: CTAb, prolonged expiratory phase, no w/r/r  \n",
      "Abdomen: distended but improved, TTP in RUQ, \n",
      "GU: no foley  \n",
      "Ext: wwp, no c/e/e, + clubbing  \n",
      "Neuro: AAO3,  CN II-XII intact  \n",
      "\n",
      " \n",
      "Pertinent Results:\n",
      "___ 10:25PM   GLUCOSE-109* UREA N-25* CREAT-0.3* SODIUM-138 \n",
      "POTASSIUM-3.4 CHLORIDE-105 TOTAL CO2-27 ANION GAP-9\n",
      "___ 10:25PM   estGFR-Using this\n",
      "___ 10:25PM   ALT(SGPT)-100* AST(SGOT)-114* ALK PHOS-114* \n",
      "TOT BILI-1.6*\n",
      "___ 10:25PM   LIPASE-77*\n",
      "___ 10:25PM   ALBUMIN-3.3*\n",
      "___ 10:25PM   WBC-5.0# RBC-4.29 HGB-14.3 HCT-42.6 MCV-99* \n",
      "MCH-33.3* MCHC-33.5 RDW-15.7*\n",
      "___ 10:25PM   NEUTS-70.3* LYMPHS-16.5* MONOS-8.1 EOS-4.2* \n",
      "BASOS-0.8\n",
      "___ 10:25PM   PLT COUNT-71*\n",
      "___ 10:25PM   ___ PTT-30.9 ___\n",
      "___ 10:25PM   ___\n",
      ".\n",
      "\n",
      "CXR: No acute cardiopulmonary process.  \n",
      "U/S:  \n",
      "1. Nodular appearance of the liver compatible with cirrhosis. \n",
      "Signs of portal  \n",
      "hypertension including small amount of ascites and splenomegaly. \n",
      " \n",
      "2. Cholelithiasis.  \n",
      "3. Patent portal veins with normal hepatopetal flow.  \n",
      "Diagnostic para attempted in the ED, unsuccessful.  \n",
      "On the floor, pt c/o abd distension and discomfort.\n",
      " \n",
      "Brief Hospital Course:\n",
      "___ HCV cirrhosis c/b ascites, hiv on ART, h/o IVDU, COPD, \n",
      "bioplar, PTSD, presented from OSH ED with worsening abd \n",
      "distension over past week and confusion.  \n",
      "\n",
      "# Ascites - p/w worsening abd distension and discomfort for last \n",
      "week. likely ___ portal HTN given underlying liver disease, \n",
      "though no ascitic fluid available on night of admission. No \n",
      "signs of heart failure noted on exam. This was ___ to med \n",
      "non-compliance and lack of diet restriction. SBP negative\n",
      "diuretics:  \n",
      "> Furosemide 40 mg PO DAILY  \n",
      "> Spironolactone 50 mg PO DAILY, chosen over the usual 100mg \n",
      "dose d/t K+ of 4.5.   \n",
      " CXR was wnl, UA negative, Urine culture blood culture negative. \n",
      " \n",
      "Pt was losing excess fluid appropriately with stable lytes on \n",
      "the above regimen. Pt was scheduled with current PCP for \n",
      "___ check upon discharge.   \n",
      "Pt was scheduled for new PCP with Dr. ___ at ___ and \n",
      "follow up in Liver clinic to schedule outpatient screening EGD \n",
      "and ___.   \n",
      " \n",
      "\n",
      " \n",
      "Medications on Admission:\n",
      "The Preadmission Medication list is accurate and complete.\n",
      "1. Furosemide 20 mg PO DAILY \n",
      "2. Spironolactone 50 mg PO DAILY \n",
      "3. Albuterol Inhaler 2 PUFF IH Q4H:PRN wheezing, SOB \n",
      "4. Raltegravir 400 mg PO BID \n",
      "5. Emtricitabine-Tenofovir (Truvada) 1 TAB PO DAILY \n",
      "6. Nicotine Patch 14 mg TD DAILY \n",
      "7. Ipratropium Bromide Neb 1 NEB IH Q6H SOB \n",
      "\n",
      " \n",
      "Discharge Medications:\n",
      "1. Albuterol Inhaler 2 PUFF IH Q4H:PRN wheezing, SOB \n",
      "2. Emtricitabine-Tenofovir (Truvada) 1 TAB PO DAILY \n",
      "3. Furosemide 40 mg PO DAILY \n",
      "RX *furosemide 40 mg 1 tablet(s) by mouth Daily Disp #*30 Tablet \n",
      "Refills:*3\n",
      "4. Ipratropium Bromide Neb 1 NEB IH Q6H SOB \n",
      "5. Nicotine Patch 14 mg TD DAILY \n",
      "6. Raltegravir 400 mg PO BID \n",
      "7. Spironolactone 50 mg PO DAILY \n",
      "8. Acetaminophen 500 mg PO Q6H:PRN pain \n",
      "\n",
      " \n",
      "Discharge Disposition:\n",
      "Home\n",
      " \n",
      "Discharge Diagnosis:\n",
      "Ascites from Portal HTN\n",
      "\n",
      " \n",
      "Discharge Condition:\n",
      "Mental Status: Clear and coherent.\n",
      "Level of Consciousness: Alert and interactive.\n",
      "Activity Status: Ambulatory - Independent.\n",
      "\n",
      " \n",
      "Discharge Instructions:\n",
      "Dear Ms. ___,\n",
      "It was a pleasure taking care of you! You came to us with \n",
      "stomach pain and worsening distension. While you were here we \n",
      "did a paracentesis to remove 1.5L of fluid from your belly. We \n",
      "also placed you on you 40 mg of Lasix and 50 mg of Aldactone to \n",
      "help you urinate the excess fluid still in your belly. As we \n",
      "discussed, everyone has a different dose of lasix required to \n",
      "make them urinate and it's likely that you weren't taking a high \n",
      "enough dose. Please take these medications daily to keep excess \n",
      "fluid off and eat a low salt diet. You will follow up with Dr. \n",
      "___ in liver clinic and from there have your colonoscopy \n",
      "and EGD scheduled. Of course, we are always here if you need us. \n",
      "We wish you all the best!\n",
      "Your ___ Team.  \n",
      " \n",
      "Followup Instructions:\n",
      "___\n",
      "\n",
      "Number of records: 331794\n"
     ]
    }
   ],
   "source": [
    "print(\"Discharge Data's first row:\")\n",
    "print(discharge_data[0][0])\n",
    "print(f'Number of records: {len(discharge_data)}')"
   ]
  },
  {
   "cell_type": "code",
   "execution_count": 6,
   "metadata": {},
   "outputs": [],
   "source": [
    "import re\n",
    "import json\n",
    "\n",
    "def parse_text_to_json(text):\n",
    "    json_data = {}\n",
    "\n",
    "    # Extracting Name and Unit No\n",
    "    name_match = re.search(r'Name:\\s+(.*?)\\s+Unit No:\\s+(.*?)\\s+', text)\n",
    "    if name_match:\n",
    "        json_data['Name'] = name_match.group(1).strip()\n",
    "        json_data['Unit No'] = name_match.group(2).strip()\n",
    "\n",
    "    # Extracting Admission Date and Discharge Date\n",
    "    date_match = re.search(r'Admission Date:\\s+(.*?)\\s+Discharge Date:\\s+(.*?)\\s+', text)\n",
    "    if date_match:\n",
    "        json_data['Admission Date'] = date_match.group(1).strip()\n",
    "        json_data['Discharge Date'] = date_match.group(2).strip()\n",
    "\n",
    "    # Extracting Date of Birth and Sex\n",
    "    dob_match = re.search(r'Date of Birth:\\s+(.*?)\\s+Sex:\\s+(.*?)\\s+', text)\n",
    "    if dob_match:\n",
    "        json_data['Date of Birth'] = dob_match.group(1).strip()\n",
    "        json_data['Sex'] = dob_match.group(2).strip()\n",
    "\n",
    "    # Extracting Service\n",
    "    service_match = re.search(r'Service:\\s+(.*?)\\s+\\n', text)\n",
    "    if service_match:\n",
    "        json_data['Service'] = service_match.group(1).strip()\n",
    "\n",
    "    # Extracting Allergies\n",
    "    allergies_match = re.search(r'Allergies:\\s+(.*?)\\s+\\n', text)\n",
    "    if allergies_match:\n",
    "        json_data['Allergies'] = allergies_match.group(1).strip()\n",
    "\n",
    "    # Extracting Attending\n",
    "    attending_match = re.search(r'Attending:\\s+(.*?)\\s+', text)\n",
    "    if attending_match:\n",
    "        json_data['Attending'] = attending_match.group(1).strip()\n",
    "\n",
    "    # Extracting Chief Complaint\n",
    "    chief_complaint_match = re.search(r'Chief Complaint:\\s+(.*?)\\s+\\n', text)\n",
    "    if chief_complaint_match:\n",
    "        json_data['Chief Complaint'] = chief_complaint_match.group(1).strip()\n",
    "\n",
    "    # Extracting Major Surgical or Invasive Procedure\n",
    "    procedure_match = re.search(r'Major Surgical or Invasive Procedure:\\s+(.*?)\\s+\\n', text)\n",
    "    if procedure_match:\n",
    "        json_data['Major Surgical or Invasive Procedure'] = procedure_match.group(1).strip()\n",
    "\n",
    "    # Extracting History of Present Illness\n",
    "    present_illness_match = re.search(r'History of Present Illness:\\s+(.*?)\\n\\n', text, re.DOTALL)\n",
    "    if present_illness_match:\n",
    "        if not present_illness_match.group(1).strip().startswith(\"___\\n\"): \n",
    "            json_data['History of Present Illness'] = present_illness_match.group(1).strip()\n",
    "        else:\n",
    "            json_data['History of Present Illness'] = \"___\"\n",
    "\n",
    "    # Extracting Past Medical History\n",
    "    past_illness_match = re.search(r'Past Medical History:\\s+(.*?)\\n\\n', text, re.DOTALL)\n",
    "    if past_illness_match:\n",
    "        if not past_illness_match.group(1).strip().startswith(\"___\\n\"): \n",
    "            json_data['Past Medical History'] = past_illness_match.group(1).strip()\n",
    "        else:\n",
    "            json_data['Past Medical History'] = \"___\"\n",
    "\n",
    "    # Extracting Social History\n",
    "    social_match = re.search(r'Social History:\\s+(.*?)\\n\\n', text, re.DOTALL)\n",
    "    if social_match:\n",
    "        if not social_match.group(1).strip().startswith(\"___\\n\"): \n",
    "            json_data['Social History'] = social_match.group(1).strip()\n",
    "        else:\n",
    "            json_data['Social History'] = \"___\"\n",
    "\n",
    "    # Extracting Family History\n",
    "    family_match = re.search(r'Family History:\\s+(.*?)\\n\\n', text, re.DOTALL)\n",
    "    if family_match:\n",
    "        if not family_match.group(1).strip().startswith(\"___\\n\"): \n",
    "            json_data['Family History'] = family_match.group(1).strip()\n",
    "        else:\n",
    "            json_data['Family History'] = \"___\"\n",
    "\n",
    "    # Extracting Brief Hospital Course\n",
    "    brief_hospital_course = re.search(r'Brief Hospital Course:\\s+(.*?)\\s+\\nMedications on Admission:', text, re.DOTALL)\n",
    "    if brief_hospital_course:\n",
    "        if not brief_hospital_course.group(1).strip().startswith(\"___\\n\"): \n",
    "            json_data['Brief Hospital Course'] = brief_hospital_course.group(1).strip()\n",
    "        else:\n",
    "            json_data['Brief Hospital Course'] = \"___\"\n",
    "    \n",
    "    # Extracting Discharge Medications\n",
    "    discharge_medications = re.search(r'Discharge Medications:\\s+(.*?)\\n\\n', text, re.DOTALL)\n",
    "    if discharge_medications:\n",
    "        if not discharge_medications.group(1).strip().startswith(\"___\\n\"): \n",
    "            json_data['Discharge Medications'] = discharge_medications.group(1).strip()\n",
    "        else:\n",
    "            json_data['Discharge Medications'] = \"___\"\n",
    "\n",
    "    # Extracting Discharge Disposition\n",
    "    discharge_disposition = re.search(r'Discharge Disposition:\\s+(.*?)\\n \\n', text, re.DOTALL)\n",
    "    if discharge_disposition:\n",
    "        if not discharge_disposition.group(1).strip().startswith(\"___\\n\"): \n",
    "            json_data['Discharge Disposition'] = discharge_disposition.group(1).strip()\n",
    "        else:\n",
    "            json_data['Discharge Disposition'] = \"___\"\n",
    "\n",
    "    # Extracting Discharge Diagnosis\n",
    "    discharge_diagnosis = re.search(r'Discharge Diagnosis:\\s+(.*?)\\n\\n', text, re.DOTALL)\n",
    "    if discharge_diagnosis:\n",
    "        if not discharge_diagnosis.group(1).strip().startswith(\"___\\n\"): \n",
    "            json_data['Discharge Diagnosis'] = discharge_diagnosis.group(1).strip()\n",
    "        else:\n",
    "            json_data['Discharge Diagnosis'] = \"___\"\n",
    "\n",
    "    # Extracting Discharge Condition\n",
    "    discharge_condition = re.search(r'Discharge Condition:\\s+(.*?)\\n\\n', text, re.DOTALL)\n",
    "    if discharge_condition:\n",
    "        if not discharge_condition.group(1).strip().startswith(\"___\\n\"): \n",
    "            json_data['Discharge Condition'] = discharge_condition.group(1).strip()\n",
    "        else:\n",
    "            json_data['Discharge Condition'] = \"___\"\n",
    "\n",
    "    # Extracting Discharge Instructions\n",
    "    discharge_Instructions = re.search(r'Discharge Instructions:\\s+(.*?)\\n \\n', text, re.DOTALL)\n",
    "    if discharge_Instructions:\n",
    "        if not discharge_Instructions.group(1).strip().startswith(\"___\\n\"): \n",
    "            json_data['Discharge Instructions'] = discharge_Instructions.group(1).strip()\n",
    "        else:\n",
    "            json_data['Discharge Instructions'] = \"___\"\n",
    "\n",
    "    # Extracting Followup Instructions\n",
    "    followup_Instructions = re.search(r'Followup Instructions:\\s+(.*?)\\n', text, re.DOTALL)\n",
    "    if followup_Instructions:\n",
    "        if not followup_Instructions.group(1).strip().startswith(\"___\\n\"): \n",
    "            json_data['Followup Instructions'] = followup_Instructions.group(1).strip()\n",
    "        else:\n",
    "            json_data['Followup Instructions'] = \"___\"\n",
    "\n",
    "            \n",
    "\n",
    "            \n",
    "\n",
    "    return json.dumps(json_data, indent=4)\n"
   ]
  },
  {
   "cell_type": "code",
   "execution_count": 7,
   "metadata": {},
   "outputs": [
    {
     "name": "stdout",
     "output_type": "stream",
     "text": [
      "{\n",
      "    \"Name\": \"___\",\n",
      "    \"Unit No\": \"___\",\n",
      "    \"Admission Date\": \"___\",\n",
      "    \"Discharge Date\": \"___\",\n",
      "    \"Date of Birth\": \"___\",\n",
      "    \"Sex\": \"F\",\n",
      "    \"Service\": \"MEDICINE\",\n",
      "    \"Allergies\": \"No Known Allergies / Adverse Drug Reactions\",\n",
      "    \"Attending\": \"___\",\n",
      "    \"Chief Complaint\": \"Worsening ABD distension and pain\",\n",
      "    \"Major Surgical or Invasive Procedure\": \"Paracentesis\",\n",
      "    \"History of Present Illness\": \"___ HCV cirrhosis c/b ascites, hiv on ART, h/o IVDU, COPD, \\nbioplar, PTSD, presented from OSH ED with worsening abd \\ndistension over past week.  \\nPt reports self-discontinuing lasix and spirnolactone ___ weeks \\nago, because she feels like \\\"they don't do anything\\\" and that \\nshe \\\"doesn't want to put more chemicals in her.\\\" She does not \\nfollow Na-restricted diets. In the past week, she notes that she \\nhas been having worsening abd distension and discomfort. She \\ndenies ___ edema, or SOB, or orthopnea. She denies f/c/n/v, d/c, \\ndysuria. She had food poisoning a week ago from eating stale \\ncake (n/v 20 min after food ingestion), which resolved the same \\nday. She denies other recent illness or sick contacts. She notes \\nthat she has been noticing gum bleeding while brushing her teeth \\nin recent weeks. she denies easy bruising, melena, BRBPR, \\nhemetesis, hemoptysis, or hematuria.  \\nBecause of her abd pain, she went to OSH ED and was transferred \\nto ___ for further care. Per ED report, pt has brief period of \\nconfusion - she did not recall the ultrasound or bloodwork at \\nosh. She denies recent drug use or alcohol use. She denies \\nfeeling confused, but reports that she is forgetful at times.  \\nIn the ED, initial vitals were 98.4 70 106/63 16 97%RA  \\nLabs notable for ALT/AST/AP ___ ___: ___, \\nTbili1.6, WBC 5K, platelet 77, INR 1.6\",\n",
      "    \"Past Medical History\": \"1. HCV Cirrhosis  \\n2. No history of abnormal Pap smears.  \\n3. She had calcification in her breast, which was removed  \\npreviously and per patient not, it was benign.  \\n4. For HIV disease, she is being followed by Dr. ___ Dr.  \\n___.  \\n5. COPD  \\n6. Past history of smoking.  \\n7. She also had a skin lesion, which was biopsied and showed  \\nskin cancer per patient report and is scheduled for a complete  \\nremoval of the skin lesion in ___ of this year.  \\n8. She also had another lesion in her forehead with purple  \\ndiscoloration. It was biopsied to exclude the possibility of  \\n___'s sarcoma, the results is pending.  \\n9. A 15 mm hypoechoic lesion on her ultrasound on ___  \\nand is being monitored by an MRI.  \\n10. History of dysplasia of anus in ___.  \\n11. Bipolar affective disorder, currently manic, mild, and PTSD. \\n \\n12. History of cocaine and heroin use.\",\n",
      "    \"Social History\": \"___\",\n",
      "    \"Family History\": \"She a total of five siblings, but she is not  \\ntalking to most of them. She only has one brother that she is in \\n \\ntouch with and lives in ___. She is not aware of any  \\nknown GI or liver disease in her family.  \\nHer last alcohol consumption was one drink two months ago. No  \\nregular alcohol consumption. Last drug use ___ years ago. She  \\nquit smoking a couple of years ago.\",\n",
      "    \"Brief Hospital Course\": \"___ HCV cirrhosis c/b ascites, hiv on ART, h/o IVDU, COPD, \\nbioplar, PTSD, presented from OSH ED with worsening abd \\ndistension over past week and confusion.  \\n\\n# Ascites - p/w worsening abd distension and discomfort for last \\nweek. likely ___ portal HTN given underlying liver disease, \\nthough no ascitic fluid available on night of admission. No \\nsigns of heart failure noted on exam. This was ___ to med \\nnon-compliance and lack of diet restriction. SBP negative\\ndiuretics:  \\n> Furosemide 40 mg PO DAILY  \\n> Spironolactone 50 mg PO DAILY, chosen over the usual 100mg \\ndose d/t K+ of 4.5.   \\n CXR was wnl, UA negative, Urine culture blood culture negative. \\n \\nPt was losing excess fluid appropriately with stable lytes on \\nthe above regimen. Pt was scheduled with current PCP for \\n___ check upon discharge.   \\nPt was scheduled for new PCP with Dr. ___ at ___ and \\nfollow up in Liver clinic to schedule outpatient screening EGD \\nand ___.\",\n",
      "    \"Discharge Medications\": \"1. Albuterol Inhaler 2 PUFF IH Q4H:PRN wheezing, SOB \\n2. Emtricitabine-Tenofovir (Truvada) 1 TAB PO DAILY \\n3. Furosemide 40 mg PO DAILY \\nRX *furosemide 40 mg 1 tablet(s) by mouth Daily Disp #*30 Tablet \\nRefills:*3\\n4. Ipratropium Bromide Neb 1 NEB IH Q6H SOB \\n5. Nicotine Patch 14 mg TD DAILY \\n6. Raltegravir 400 mg PO BID \\n7. Spironolactone 50 mg PO DAILY \\n8. Acetaminophen 500 mg PO Q6H:PRN pain\",\n",
      "    \"Discharge Disposition\": \"Home\",\n",
      "    \"Discharge Diagnosis\": \"Ascites from Portal HTN\",\n",
      "    \"Discharge Condition\": \"Mental Status: Clear and coherent.\\nLevel of Consciousness: Alert and interactive.\\nActivity Status: Ambulatory - Independent.\",\n",
      "    \"Discharge Instructions\": \"Dear Ms. ___,\\nIt was a pleasure taking care of you! You came to us with \\nstomach pain and worsening distension. While you were here we \\ndid a paracentesis to remove 1.5L of fluid from your belly. We \\nalso placed you on you 40 mg of Lasix and 50 mg of Aldactone to \\nhelp you urinate the excess fluid still in your belly. As we \\ndiscussed, everyone has a different dose of lasix required to \\nmake them urinate and it's likely that you weren't taking a high \\nenough dose. Please take these medications daily to keep excess \\nfluid off and eat a low salt diet. You will follow up with Dr. \\n___ in liver clinic and from there have your colonoscopy \\nand EGD scheduled. Of course, we are always here if you need us. \\nWe wish you all the best!\\nYour ___ Team.\",\n",
      "    \"Followup Instructions\": \"___\"\n",
      "}\n",
      " \n",
      "Name:  ___                     Unit No:   ___\n",
      " \n",
      "Admission Date:  ___              Discharge Date:   ___\n",
      " \n",
      "Date of Birth:  ___             Sex:   F\n",
      " \n",
      "Service: MEDICINE\n",
      " \n",
      "Allergies: \n",
      "No Known Allergies / Adverse Drug Reactions\n",
      " \n",
      "Attending: ___\n",
      " \n",
      "Chief Complaint:\n",
      "Worsening ABD distension and pain \n",
      " \n",
      "Major Surgical or Invasive Procedure:\n",
      "Paracentesis\n",
      "\n",
      " \n",
      "History of Present Illness:\n",
      "___ HCV cirrhosis c/b ascites, hiv on ART, h/o IVDU, COPD, \n",
      "bioplar, PTSD, presented from OSH ED with worsening abd \n",
      "distension over past week.  \n",
      "Pt reports self-discontinuing lasix and spirnolactone ___ weeks \n",
      "ago, because she feels like \"they don't do anything\" and that \n",
      "she \"doesn't want to put more chemicals in her.\" She does not \n",
      "follow Na-restricted diets. In the past week, she notes that she \n",
      "has been having worsening abd distension and discomfort. She \n",
      "denies ___ edema, or SOB, or orthopnea. She denies f/c/n/v, d/c, \n",
      "dysuria. She had food poisoning a week ago from eating stale \n",
      "cake (n/v 20 min after food ingestion), which resolved the same \n",
      "day. She denies other recent illness or sick contacts. She notes \n",
      "that she has been noticing gum bleeding while brushing her teeth \n",
      "in recent weeks. she denies easy bruising, melena, BRBPR, \n",
      "hemetesis, hemoptysis, or hematuria.  \n",
      "Because of her abd pain, she went to OSH ED and was transferred \n",
      "to ___ for further care. Per ED report, pt has brief period of \n",
      "confusion - she did not recall the ultrasound or bloodwork at \n",
      "osh. She denies recent drug use or alcohol use. She denies \n",
      "feeling confused, but reports that she is forgetful at times.  \n",
      "In the ED, initial vitals were 98.4 70 106/63 16 97%RA  \n",
      "Labs notable for ALT/AST/AP ___ ___: ___, \n",
      "Tbili1.6, WBC 5K, platelet 77, INR 1.6  \n",
      "\n",
      " \n",
      "Past Medical History:\n",
      "1. HCV Cirrhosis  \n",
      "2. No history of abnormal Pap smears.  \n",
      "3. She had calcification in her breast, which was removed  \n",
      "previously and per patient not, it was benign.  \n",
      "4. For HIV disease, she is being followed by Dr. ___ Dr.  \n",
      "___.  \n",
      "5. COPD  \n",
      "6. Past history of smoking.  \n",
      "7. She also had a skin lesion, which was biopsied and showed  \n",
      "skin cancer per patient report and is scheduled for a complete  \n",
      "removal of the skin lesion in ___ of this year.  \n",
      "8. She also had another lesion in her forehead with purple  \n",
      "discoloration. It was biopsied to exclude the possibility of  \n",
      "___'s sarcoma, the results is pending.  \n",
      "9. A 15 mm hypoechoic lesion on her ultrasound on ___  \n",
      "and is being monitored by an MRI.  \n",
      "10. History of dysplasia of anus in ___.  \n",
      "11. Bipolar affective disorder, currently manic, mild, and PTSD. \n",
      " \n",
      "12. History of cocaine and heroin use.  \n",
      "\n",
      " \n",
      "Social History:\n",
      "___\n",
      "Family History:\n",
      "She a total of five siblings, but she is not  \n",
      "talking to most of them. She only has one brother that she is in \n",
      " \n",
      "touch with and lives in ___. She is not aware of any  \n",
      "known GI or liver disease in her family.  \n",
      "Her last alcohol consumption was one drink two months ago. No  \n",
      "regular alcohol consumption. Last drug use ___ years ago. She  \n",
      "quit smoking a couple of years ago.  \n",
      "\n",
      " \n",
      "Physical Exam:\n",
      "VS: 98.1 107/61 78 18 97RA  \n",
      "General: in NAD  \n",
      "HEENT: CTAB, anicteric sclera, OP clear  \n",
      "Neck: supple, no LAD  \n",
      "CV: RRR,S1S2, no m/r/g  \n",
      "Lungs: CTAb, prolonged expiratory phase, no w/r/r  \n",
      "Abdomen: distended, mild diffuse tenderness, +flank dullness, \n",
      "cannot percuss liver/spleen edge ___ distension  \n",
      "GU: no foley  \n",
      "Ext: wwp, no c/e/e, + clubbing  \n",
      "Neuro: AAO3, converse normally, able to recall 3 times after 5 \n",
      "minutes, CN II-XII intact  \n",
      "\n",
      "Discharge:\n",
      "\n",
      "PHYSICAL EXAMINATION:  \n",
      "VS: 98 105/70 95\n",
      "General: in NAD  \n",
      "HEENT: anicteric sclera, OP clear  \n",
      "Neck: supple, no LAD  \n",
      "CV: RRR,S1S2, no m/r/g  \n",
      "Lungs: CTAb, prolonged expiratory phase, no w/r/r  \n",
      "Abdomen: distended but improved, TTP in RUQ, \n",
      "GU: no foley  \n",
      "Ext: wwp, no c/e/e, + clubbing  \n",
      "Neuro: AAO3,  CN II-XII intact  \n",
      "\n",
      " \n",
      "Pertinent Results:\n",
      "___ 10:25PM   GLUCOSE-109* UREA N-25* CREAT-0.3* SODIUM-138 \n",
      "POTASSIUM-3.4 CHLORIDE-105 TOTAL CO2-27 ANION GAP-9\n",
      "___ 10:25PM   estGFR-Using this\n",
      "___ 10:25PM   ALT(SGPT)-100* AST(SGOT)-114* ALK PHOS-114* \n",
      "TOT BILI-1.6*\n",
      "___ 10:25PM   LIPASE-77*\n",
      "___ 10:25PM   ALBUMIN-3.3*\n",
      "___ 10:25PM   WBC-5.0# RBC-4.29 HGB-14.3 HCT-42.6 MCV-99* \n",
      "MCH-33.3* MCHC-33.5 RDW-15.7*\n",
      "___ 10:25PM   NEUTS-70.3* LYMPHS-16.5* MONOS-8.1 EOS-4.2* \n",
      "BASOS-0.8\n",
      "___ 10:25PM   PLT COUNT-71*\n",
      "___ 10:25PM   ___ PTT-30.9 ___\n",
      "___ 10:25PM   ___\n",
      ".\n",
      "\n",
      "CXR: No acute cardiopulmonary process.  \n",
      "U/S:  \n",
      "1. Nodular appearance of the liver compatible with cirrhosis. \n",
      "Signs of portal  \n",
      "hypertension including small amount of ascites and splenomegaly. \n",
      " \n",
      "2. Cholelithiasis.  \n",
      "3. Patent portal veins with normal hepatopetal flow.  \n",
      "Diagnostic para attempted in the ED, unsuccessful.  \n",
      "On the floor, pt c/o abd distension and discomfort.\n",
      " \n",
      "Brief Hospital Course:\n",
      "___ HCV cirrhosis c/b ascites, hiv on ART, h/o IVDU, COPD, \n",
      "bioplar, PTSD, presented from OSH ED with worsening abd \n",
      "distension over past week and confusion.  \n",
      "\n",
      "# Ascites - p/w worsening abd distension and discomfort for last \n",
      "week. likely ___ portal HTN given underlying liver disease, \n",
      "though no ascitic fluid available on night of admission. No \n",
      "signs of heart failure noted on exam. This was ___ to med \n",
      "non-compliance and lack of diet restriction. SBP negative\n",
      "diuretics:  \n",
      "> Furosemide 40 mg PO DAILY  \n",
      "> Spironolactone 50 mg PO DAILY, chosen over the usual 100mg \n",
      "dose d/t K+ of 4.5.   \n",
      " CXR was wnl, UA negative, Urine culture blood culture negative. \n",
      " \n",
      "Pt was losing excess fluid appropriately with stable lytes on \n",
      "the above regimen. Pt was scheduled with current PCP for \n",
      "___ check upon discharge.   \n",
      "Pt was scheduled for new PCP with Dr. ___ at ___ and \n",
      "follow up in Liver clinic to schedule outpatient screening EGD \n",
      "and ___.   \n",
      " \n",
      "\n",
      " \n",
      "Medications on Admission:\n",
      "The Preadmission Medication list is accurate and complete.\n",
      "1. Furosemide 20 mg PO DAILY \n",
      "2. Spironolactone 50 mg PO DAILY \n",
      "3. Albuterol Inhaler 2 PUFF IH Q4H:PRN wheezing, SOB \n",
      "4. Raltegravir 400 mg PO BID \n",
      "5. Emtricitabine-Tenofovir (Truvada) 1 TAB PO DAILY \n",
      "6. Nicotine Patch 14 mg TD DAILY \n",
      "7. Ipratropium Bromide Neb 1 NEB IH Q6H SOB \n",
      "\n",
      " \n",
      "Discharge Medications:\n",
      "1. Albuterol Inhaler 2 PUFF IH Q4H:PRN wheezing, SOB \n",
      "2. Emtricitabine-Tenofovir (Truvada) 1 TAB PO DAILY \n",
      "3. Furosemide 40 mg PO DAILY \n",
      "RX *furosemide 40 mg 1 tablet(s) by mouth Daily Disp #*30 Tablet \n",
      "Refills:*3\n",
      "4. Ipratropium Bromide Neb 1 NEB IH Q6H SOB \n",
      "5. Nicotine Patch 14 mg TD DAILY \n",
      "6. Raltegravir 400 mg PO BID \n",
      "7. Spironolactone 50 mg PO DAILY \n",
      "8. Acetaminophen 500 mg PO Q6H:PRN pain \n",
      "\n",
      " \n",
      "Discharge Disposition:\n",
      "Home\n",
      " \n",
      "Discharge Diagnosis:\n",
      "Ascites from Portal HTN\n",
      "\n",
      " \n",
      "Discharge Condition:\n",
      "Mental Status: Clear and coherent.\n",
      "Level of Consciousness: Alert and interactive.\n",
      "Activity Status: Ambulatory - Independent.\n",
      "\n",
      " \n",
      "Discharge Instructions:\n",
      "Dear Ms. ___,\n",
      "It was a pleasure taking care of you! You came to us with \n",
      "stomach pain and worsening distension. While you were here we \n",
      "did a paracentesis to remove 1.5L of fluid from your belly. We \n",
      "also placed you on you 40 mg of Lasix and 50 mg of Aldactone to \n",
      "help you urinate the excess fluid still in your belly. As we \n",
      "discussed, everyone has a different dose of lasix required to \n",
      "make them urinate and it's likely that you weren't taking a high \n",
      "enough dose. Please take these medications daily to keep excess \n",
      "fluid off and eat a low salt diet. You will follow up with Dr. \n",
      "___ in liver clinic and from there have your colonoscopy \n",
      "and EGD scheduled. Of course, we are always here if you need us. \n",
      "We wish you all the best!\n",
      "Your ___ Team.  \n",
      " \n",
      "Followup Instructions:\n",
      "___\n",
      "\n"
     ]
    }
   ],
   "source": [
    "# Example usage\n",
    "text = discharge_data[0][0]\n",
    "json_data = parse_text_to_json(text)\n",
    "print(json_data)\n",
    "\n",
    "print(discharge_data[0][0])"
   ]
  },
  {
   "cell_type": "code",
   "execution_count": 8,
   "metadata": {},
   "outputs": [],
   "source": [
    "json_data = list()\n",
    "for row in discharge_data:\n",
    "    json_data.append(parse_text_to_json(row[0]))"
   ]
  },
  {
   "cell_type": "code",
   "execution_count": 9,
   "metadata": {},
   "outputs": [
    {
     "name": "stdout",
     "output_type": "stream",
     "text": [
      "{'Name': 15750, 'Unit No': 0, 'Admission Date': 19, 'Discharge Date': 33, 'Date of Birth': 10, 'Sex': 331777, 'Service': 331039, 'Allergies': 326486, 'Attending': 257348, 'Chief Complaint': 311727, 'Major Surgical or Invasive Procedure': 288747, 'History of Present Illness': 325433, 'Past Medical History': 325376, 'Social History': 9110, 'Family History': 319734, 'Brief Hospital Course': 275343, 'Discharge Medications': 317952, 'Discharge Disposition': 327444, 'Discharge Diagnosis': 305695, 'Discharge Condition': 315794, 'Discharge Instructions': 328280, 'Followup Instructions': 0}\n"
     ]
    }
   ],
   "source": [
    "counter_map = {\"Name\": 331794,\n",
    "\"Unit No\": 331794,\n",
    "\"Admission Date\": 331794,\n",
    "\"Discharge Date\": 331794,\n",
    "\"Date of Birth\": 331794,     \n",
    "\"Sex\": 331794,  \n",
    "\"Service\": 331794,  \n",
    "\"Allergies\": 331794,  \n",
    "\"Attending\": 331794,  \n",
    "\"Chief Complaint\": 331794,  \n",
    "\"Major Surgical or Invasive Procedure\": 331794,  \n",
    "\"History of Present Illness\": 331794,  \n",
    "\"Past Medical History\": 331794,  \n",
    "\"Social History\": 331794,  \n",
    "\"Family History\": 331794,  \n",
    "\"Brief Hospital Course\": 331794,  \n",
    "\"Discharge Medications\": 331794,  \n",
    "\"Discharge Disposition\": 331794,  \n",
    "\"Discharge Diagnosis\": 331794,  \n",
    "\"Discharge Condition\": 331794,  \n",
    "\"Discharge Instructions\": 331794,  \n",
    "\"Followup Instructions\": 331794}\n",
    "\n",
    "maps = []\n",
    "for data in json_data:\n",
    "    obj = json.loads(data)\n",
    "\n",
    "    my_map = {}\n",
    "    for key, value in obj.items():\n",
    "        my_map[key] = value\n",
    "    maps.append(my_map)\n",
    "\n",
    "    for key in counter_map.keys():\n",
    "        if (key in my_map.keys()):\n",
    "            if (my_map[key] != \"___\"):\n",
    "                pass\n",
    "            else:\n",
    "                counter_map[key] -= 1\n",
    "        else:\n",
    "            counter_map[key] -= 1\n",
    "\n",
    "print(counter_map)\n",
    "    "
   ]
  },
  {
   "cell_type": "code",
   "execution_count": 11,
   "metadata": {},
   "outputs": [
    {
     "name": "stdout",
     "output_type": "stream",
     "text": [
      "Requirement already satisfied: plotly in c:\\users\\13980611\\anaconda3\\lib\\site-packages (5.18.0)\n",
      "Requirement already satisfied: tenacity>=6.2.0 in c:\\users\\13980611\\anaconda3\\lib\\site-packages (from plotly) (8.2.3)\n",
      "Requirement already satisfied: packaging in c:\\users\\13980611\\anaconda3\\lib\\site-packages (from plotly) (21.0)\n",
      "Requirement already satisfied: pyparsing>=2.0.2 in c:\\users\\13980611\\anaconda3\\lib\\site-packages (from packaging->plotly) (3.0.4)\n"
     ]
    },
    {
     "name": "stderr",
     "output_type": "stream",
     "text": [
      "DEPRECATION: pyodbc 4.0.0-unsupported has a non-standard version number. pip 23.3 will enforce this behaviour change. A possible replacement is to upgrade to a newer version of pyodbc or contact the author to suggest that they release a version with a conforming version number. Discussion can be found at https://github.com/pypa/pip/issues/12063\n",
      "\n",
      "[notice] A new release of pip is available: 23.2.1 -> 23.3.1\n",
      "[notice] To update, run: python.exe -m pip install --upgrade pip\n"
     ]
    }
   ],
   "source": [
    "!pip install plotly"
   ]
  },
  {
   "cell_type": "code",
   "execution_count": 13,
   "metadata": {},
   "outputs": [
    {
     "data": {
      "application/vnd.plotly.v1+json": {
       "config": {
        "plotlyServerURL": "https://plot.ly"
       },
       "data": [
        {
         "type": "bar",
         "x": [
          "Name",
          "Unit No",
          "Admission Date",
          "Discharge Date",
          "Date of Birth",
          "Sex",
          "Service",
          "Allergies",
          "Attending",
          "Chief Complaint",
          "Major Surgical or Invasive Procedure",
          "History of Present Illness",
          "Past Medical History",
          "Social History",
          "Family History",
          "Brief Hospital Course",
          "Discharge Medications",
          "Discharge Disposition",
          "Discharge Diagnosis",
          "Discharge Condition",
          "Discharge Instructions",
          "Followup Instructions"
         ],
         "y": [
          15750,
          0,
          19,
          33,
          10,
          331777,
          331039,
          326486,
          257348,
          311727,
          288747,
          325433,
          325376,
          9110,
          319734,
          275343,
          317952,
          327444,
          305695,
          315794,
          328280,
          0
         ]
        }
       ],
       "layout": {
        "template": {
         "data": {
          "bar": [
           {
            "error_x": {
             "color": "#2a3f5f"
            },
            "error_y": {
             "color": "#2a3f5f"
            },
            "marker": {
             "line": {
              "color": "#E5ECF6",
              "width": 0.5
             },
             "pattern": {
              "fillmode": "overlay",
              "size": 10,
              "solidity": 0.2
             }
            },
            "type": "bar"
           }
          ],
          "barpolar": [
           {
            "marker": {
             "line": {
              "color": "#E5ECF6",
              "width": 0.5
             },
             "pattern": {
              "fillmode": "overlay",
              "size": 10,
              "solidity": 0.2
             }
            },
            "type": "barpolar"
           }
          ],
          "carpet": [
           {
            "aaxis": {
             "endlinecolor": "#2a3f5f",
             "gridcolor": "white",
             "linecolor": "white",
             "minorgridcolor": "white",
             "startlinecolor": "#2a3f5f"
            },
            "baxis": {
             "endlinecolor": "#2a3f5f",
             "gridcolor": "white",
             "linecolor": "white",
             "minorgridcolor": "white",
             "startlinecolor": "#2a3f5f"
            },
            "type": "carpet"
           }
          ],
          "choropleth": [
           {
            "colorbar": {
             "outlinewidth": 0,
             "ticks": ""
            },
            "type": "choropleth"
           }
          ],
          "contour": [
           {
            "colorbar": {
             "outlinewidth": 0,
             "ticks": ""
            },
            "colorscale": [
             [
              0,
              "#0d0887"
             ],
             [
              0.1111111111111111,
              "#46039f"
             ],
             [
              0.2222222222222222,
              "#7201a8"
             ],
             [
              0.3333333333333333,
              "#9c179e"
             ],
             [
              0.4444444444444444,
              "#bd3786"
             ],
             [
              0.5555555555555556,
              "#d8576b"
             ],
             [
              0.6666666666666666,
              "#ed7953"
             ],
             [
              0.7777777777777778,
              "#fb9f3a"
             ],
             [
              0.8888888888888888,
              "#fdca26"
             ],
             [
              1,
              "#f0f921"
             ]
            ],
            "type": "contour"
           }
          ],
          "contourcarpet": [
           {
            "colorbar": {
             "outlinewidth": 0,
             "ticks": ""
            },
            "type": "contourcarpet"
           }
          ],
          "heatmap": [
           {
            "colorbar": {
             "outlinewidth": 0,
             "ticks": ""
            },
            "colorscale": [
             [
              0,
              "#0d0887"
             ],
             [
              0.1111111111111111,
              "#46039f"
             ],
             [
              0.2222222222222222,
              "#7201a8"
             ],
             [
              0.3333333333333333,
              "#9c179e"
             ],
             [
              0.4444444444444444,
              "#bd3786"
             ],
             [
              0.5555555555555556,
              "#d8576b"
             ],
             [
              0.6666666666666666,
              "#ed7953"
             ],
             [
              0.7777777777777778,
              "#fb9f3a"
             ],
             [
              0.8888888888888888,
              "#fdca26"
             ],
             [
              1,
              "#f0f921"
             ]
            ],
            "type": "heatmap"
           }
          ],
          "heatmapgl": [
           {
            "colorbar": {
             "outlinewidth": 0,
             "ticks": ""
            },
            "colorscale": [
             [
              0,
              "#0d0887"
             ],
             [
              0.1111111111111111,
              "#46039f"
             ],
             [
              0.2222222222222222,
              "#7201a8"
             ],
             [
              0.3333333333333333,
              "#9c179e"
             ],
             [
              0.4444444444444444,
              "#bd3786"
             ],
             [
              0.5555555555555556,
              "#d8576b"
             ],
             [
              0.6666666666666666,
              "#ed7953"
             ],
             [
              0.7777777777777778,
              "#fb9f3a"
             ],
             [
              0.8888888888888888,
              "#fdca26"
             ],
             [
              1,
              "#f0f921"
             ]
            ],
            "type": "heatmapgl"
           }
          ],
          "histogram": [
           {
            "marker": {
             "pattern": {
              "fillmode": "overlay",
              "size": 10,
              "solidity": 0.2
             }
            },
            "type": "histogram"
           }
          ],
          "histogram2d": [
           {
            "colorbar": {
             "outlinewidth": 0,
             "ticks": ""
            },
            "colorscale": [
             [
              0,
              "#0d0887"
             ],
             [
              0.1111111111111111,
              "#46039f"
             ],
             [
              0.2222222222222222,
              "#7201a8"
             ],
             [
              0.3333333333333333,
              "#9c179e"
             ],
             [
              0.4444444444444444,
              "#bd3786"
             ],
             [
              0.5555555555555556,
              "#d8576b"
             ],
             [
              0.6666666666666666,
              "#ed7953"
             ],
             [
              0.7777777777777778,
              "#fb9f3a"
             ],
             [
              0.8888888888888888,
              "#fdca26"
             ],
             [
              1,
              "#f0f921"
             ]
            ],
            "type": "histogram2d"
           }
          ],
          "histogram2dcontour": [
           {
            "colorbar": {
             "outlinewidth": 0,
             "ticks": ""
            },
            "colorscale": [
             [
              0,
              "#0d0887"
             ],
             [
              0.1111111111111111,
              "#46039f"
             ],
             [
              0.2222222222222222,
              "#7201a8"
             ],
             [
              0.3333333333333333,
              "#9c179e"
             ],
             [
              0.4444444444444444,
              "#bd3786"
             ],
             [
              0.5555555555555556,
              "#d8576b"
             ],
             [
              0.6666666666666666,
              "#ed7953"
             ],
             [
              0.7777777777777778,
              "#fb9f3a"
             ],
             [
              0.8888888888888888,
              "#fdca26"
             ],
             [
              1,
              "#f0f921"
             ]
            ],
            "type": "histogram2dcontour"
           }
          ],
          "mesh3d": [
           {
            "colorbar": {
             "outlinewidth": 0,
             "ticks": ""
            },
            "type": "mesh3d"
           }
          ],
          "parcoords": [
           {
            "line": {
             "colorbar": {
              "outlinewidth": 0,
              "ticks": ""
             }
            },
            "type": "parcoords"
           }
          ],
          "pie": [
           {
            "automargin": true,
            "type": "pie"
           }
          ],
          "scatter": [
           {
            "fillpattern": {
             "fillmode": "overlay",
             "size": 10,
             "solidity": 0.2
            },
            "type": "scatter"
           }
          ],
          "scatter3d": [
           {
            "line": {
             "colorbar": {
              "outlinewidth": 0,
              "ticks": ""
             }
            },
            "marker": {
             "colorbar": {
              "outlinewidth": 0,
              "ticks": ""
             }
            },
            "type": "scatter3d"
           }
          ],
          "scattercarpet": [
           {
            "marker": {
             "colorbar": {
              "outlinewidth": 0,
              "ticks": ""
             }
            },
            "type": "scattercarpet"
           }
          ],
          "scattergeo": [
           {
            "marker": {
             "colorbar": {
              "outlinewidth": 0,
              "ticks": ""
             }
            },
            "type": "scattergeo"
           }
          ],
          "scattergl": [
           {
            "marker": {
             "colorbar": {
              "outlinewidth": 0,
              "ticks": ""
             }
            },
            "type": "scattergl"
           }
          ],
          "scattermapbox": [
           {
            "marker": {
             "colorbar": {
              "outlinewidth": 0,
              "ticks": ""
             }
            },
            "type": "scattermapbox"
           }
          ],
          "scatterpolar": [
           {
            "marker": {
             "colorbar": {
              "outlinewidth": 0,
              "ticks": ""
             }
            },
            "type": "scatterpolar"
           }
          ],
          "scatterpolargl": [
           {
            "marker": {
             "colorbar": {
              "outlinewidth": 0,
              "ticks": ""
             }
            },
            "type": "scatterpolargl"
           }
          ],
          "scatterternary": [
           {
            "marker": {
             "colorbar": {
              "outlinewidth": 0,
              "ticks": ""
             }
            },
            "type": "scatterternary"
           }
          ],
          "surface": [
           {
            "colorbar": {
             "outlinewidth": 0,
             "ticks": ""
            },
            "colorscale": [
             [
              0,
              "#0d0887"
             ],
             [
              0.1111111111111111,
              "#46039f"
             ],
             [
              0.2222222222222222,
              "#7201a8"
             ],
             [
              0.3333333333333333,
              "#9c179e"
             ],
             [
              0.4444444444444444,
              "#bd3786"
             ],
             [
              0.5555555555555556,
              "#d8576b"
             ],
             [
              0.6666666666666666,
              "#ed7953"
             ],
             [
              0.7777777777777778,
              "#fb9f3a"
             ],
             [
              0.8888888888888888,
              "#fdca26"
             ],
             [
              1,
              "#f0f921"
             ]
            ],
            "type": "surface"
           }
          ],
          "table": [
           {
            "cells": {
             "fill": {
              "color": "#EBF0F8"
             },
             "line": {
              "color": "white"
             }
            },
            "header": {
             "fill": {
              "color": "#C8D4E3"
             },
             "line": {
              "color": "white"
             }
            },
            "type": "table"
           }
          ]
         },
         "layout": {
          "annotationdefaults": {
           "arrowcolor": "#2a3f5f",
           "arrowhead": 0,
           "arrowwidth": 1
          },
          "autotypenumbers": "strict",
          "coloraxis": {
           "colorbar": {
            "outlinewidth": 0,
            "ticks": ""
           }
          },
          "colorscale": {
           "diverging": [
            [
             0,
             "#8e0152"
            ],
            [
             0.1,
             "#c51b7d"
            ],
            [
             0.2,
             "#de77ae"
            ],
            [
             0.3,
             "#f1b6da"
            ],
            [
             0.4,
             "#fde0ef"
            ],
            [
             0.5,
             "#f7f7f7"
            ],
            [
             0.6,
             "#e6f5d0"
            ],
            [
             0.7,
             "#b8e186"
            ],
            [
             0.8,
             "#7fbc41"
            ],
            [
             0.9,
             "#4d9221"
            ],
            [
             1,
             "#276419"
            ]
           ],
           "sequential": [
            [
             0,
             "#0d0887"
            ],
            [
             0.1111111111111111,
             "#46039f"
            ],
            [
             0.2222222222222222,
             "#7201a8"
            ],
            [
             0.3333333333333333,
             "#9c179e"
            ],
            [
             0.4444444444444444,
             "#bd3786"
            ],
            [
             0.5555555555555556,
             "#d8576b"
            ],
            [
             0.6666666666666666,
             "#ed7953"
            ],
            [
             0.7777777777777778,
             "#fb9f3a"
            ],
            [
             0.8888888888888888,
             "#fdca26"
            ],
            [
             1,
             "#f0f921"
            ]
           ],
           "sequentialminus": [
            [
             0,
             "#0d0887"
            ],
            [
             0.1111111111111111,
             "#46039f"
            ],
            [
             0.2222222222222222,
             "#7201a8"
            ],
            [
             0.3333333333333333,
             "#9c179e"
            ],
            [
             0.4444444444444444,
             "#bd3786"
            ],
            [
             0.5555555555555556,
             "#d8576b"
            ],
            [
             0.6666666666666666,
             "#ed7953"
            ],
            [
             0.7777777777777778,
             "#fb9f3a"
            ],
            [
             0.8888888888888888,
             "#fdca26"
            ],
            [
             1,
             "#f0f921"
            ]
           ]
          },
          "colorway": [
           "#636efa",
           "#EF553B",
           "#00cc96",
           "#ab63fa",
           "#FFA15A",
           "#19d3f3",
           "#FF6692",
           "#B6E880",
           "#FF97FF",
           "#FECB52"
          ],
          "font": {
           "color": "#2a3f5f"
          },
          "geo": {
           "bgcolor": "white",
           "lakecolor": "white",
           "landcolor": "#E5ECF6",
           "showlakes": true,
           "showland": true,
           "subunitcolor": "white"
          },
          "hoverlabel": {
           "align": "left"
          },
          "hovermode": "closest",
          "mapbox": {
           "style": "light"
          },
          "paper_bgcolor": "white",
          "plot_bgcolor": "#E5ECF6",
          "polar": {
           "angularaxis": {
            "gridcolor": "white",
            "linecolor": "white",
            "ticks": ""
           },
           "bgcolor": "#E5ECF6",
           "radialaxis": {
            "gridcolor": "white",
            "linecolor": "white",
            "ticks": ""
           }
          },
          "scene": {
           "xaxis": {
            "backgroundcolor": "#E5ECF6",
            "gridcolor": "white",
            "gridwidth": 2,
            "linecolor": "white",
            "showbackground": true,
            "ticks": "",
            "zerolinecolor": "white"
           },
           "yaxis": {
            "backgroundcolor": "#E5ECF6",
            "gridcolor": "white",
            "gridwidth": 2,
            "linecolor": "white",
            "showbackground": true,
            "ticks": "",
            "zerolinecolor": "white"
           },
           "zaxis": {
            "backgroundcolor": "#E5ECF6",
            "gridcolor": "white",
            "gridwidth": 2,
            "linecolor": "white",
            "showbackground": true,
            "ticks": "",
            "zerolinecolor": "white"
           }
          },
          "shapedefaults": {
           "line": {
            "color": "#2a3f5f"
           }
          },
          "ternary": {
           "aaxis": {
            "gridcolor": "white",
            "linecolor": "white",
            "ticks": ""
           },
           "baxis": {
            "gridcolor": "white",
            "linecolor": "white",
            "ticks": ""
           },
           "bgcolor": "#E5ECF6",
           "caxis": {
            "gridcolor": "white",
            "linecolor": "white",
            "ticks": ""
           }
          },
          "title": {
           "x": 0.05
          },
          "xaxis": {
           "automargin": true,
           "gridcolor": "white",
           "linecolor": "white",
           "ticks": "",
           "title": {
            "standoff": 15
           },
           "zerolinecolor": "white",
           "zerolinewidth": 2
          },
          "yaxis": {
           "automargin": true,
           "gridcolor": "white",
           "linecolor": "white",
           "ticks": "",
           "title": {
            "standoff": 15
           },
           "zerolinecolor": "white",
           "zerolinewidth": 2
          }
         }
        },
        "title": {
         "text": "Number of non-empty fields in dataset"
        },
        "xaxis": {
         "title": {
          "text": "Keys"
         }
        },
        "yaxis": {
         "title": {
          "text": "Values"
         }
        }
       }
      }
     },
     "metadata": {},
     "output_type": "display_data"
    }
   ],
   "source": [
    "import plotly.graph_objects as go\n",
    "\n",
    "# Convert counter_map to lists for plotting\n",
    "keys = list(counter_map.keys())\n",
    "values = list(counter_map.values())\n",
    "\n",
    "# Create bar chart\n",
    "fig = go.Figure(data=[go.Bar(x=keys, y=values)])\n",
    "fig.update_layout(title='Number of non-empty fields in dataset',\n",
    "                  xaxis_title='Keys', yaxis_title='Values')\n",
    "\n",
    "fig.show()\n"
   ]
  },
  {
   "cell_type": "code",
   "execution_count": 18,
   "metadata": {},
   "outputs": [
    {
     "name": "stdout",
     "output_type": "stream",
     "text": [
      "She a total of five siblings, but she is not  talking to most of them. She only has one brother that she is in  touch with and lives in ___. She is not aware of any known GI or liver disease in her family.\n"
     ]
    }
   ],
   "source": [
    "# Test the map\n",
    "paragraphs = maps[2][\"Family History\"].split('\\n \\n')\n",
    "Family_History = paragraphs[0]\n",
    "Family_History = Family_History.replace('\\n', '').strip()\n",
    "print(Family_History)"
   ]
  },
  {
   "cell_type": "code",
   "execution_count": 19,
   "metadata": {},
   "outputs": [],
   "source": [
    "import matplotlib.pyplot as plt\n",
    "from sklearn.feature_extraction.text import CountVectorizer\n",
    "from sklearn.feature_extraction.text import TfidfTransformer\n",
    "from sklearn.pipeline import Pipeline\n",
    "from sklearn.linear_model import SGDClassifier\n",
    "from sklearn.model_selection import train_test_split\n",
    "from sklearn.metrics import confusion_matrix, classification_report\n",
    "from nltk.corpus import stopwords\n",
    "from nltk.tokenize import word_tokenize\n",
    "from nltk.stem import PorterStemmer\n",
    "from nltk import pos_tag\n",
    "from nltk import ne_chunk\n",
    "from transformers import AutoTokenizer, AutoModel\n",
    "import spacy\n",
    "import pandas as pd\n",
    "from spacy import displacy\n",
    "from transformers import AutoTokenizer, AutoModelForSequenceClassification\n",
    "import torch\n",
    "from nltk import sent_tokenize"
   ]
  },
  {
   "cell_type": "code",
   "execution_count": 20,
   "metadata": {},
   "outputs": [
    {
     "name": "stderr",
     "output_type": "stream",
     "text": [
      "Some weights of the model checkpoint at emilyalsentzer/Bio_ClinicalBERT were not used when initializing BertModel: ['cls.seq_relationship.bias', 'cls.predictions.transform.dense.weight', 'cls.predictions.bias', 'cls.predictions.decoder.weight', 'cls.predictions.transform.LayerNorm.weight', 'cls.predictions.transform.LayerNorm.bias', 'cls.predictions.transform.dense.bias', 'cls.seq_relationship.weight']\n",
      "- This IS expected if you are initializing BertModel from the checkpoint of a model trained on another task or with another architecture (e.g. initializing a BertForSequenceClassification model from a BertForPreTraining model).\n",
      "- This IS NOT expected if you are initializing BertModel from the checkpoint of a model that you expect to be exactly identical (initializing a BertForSequenceClassification model from a BertForSequenceClassification model).\n"
     ]
    }
   ],
   "source": [
    "tokenizer = AutoTokenizer.from_pretrained(\"emilyalsentzer/Bio_ClinicalBERT\")\n",
    "model = AutoModel.from_pretrained(\"emilyalsentzer/Bio_ClinicalBERT\")\n",
    "\n",
    "nltk_stopwords = stopwords.words('english')\n",
    "stemmer = PorterStemmer()"
   ]
  },
  {
   "cell_type": "code",
   "execution_count": 22,
   "metadata": {},
   "outputs": [
    {
     "name": "stderr",
     "output_type": "stream",
     "text": [
      "No model was supplied, defaulted to distilbert-base-uncased-finetuned-sst-2-english and revision af0f99b (https://huggingface.co/distilbert-base-uncased-finetuned-sst-2-english).\n",
      "Using a pipeline without specifying a model name and revision in production is not recommended.\n"
     ]
    },
    {
     "data": {
      "application/vnd.jupyter.widget-view+json": {
       "model_id": "34871fc21a8f43d1b4ac8f3d8787619e",
       "version_major": 2,
       "version_minor": 0
      },
      "text/plain": [
       "Downloading:   0%|          | 0.00/268M [00:00<?, ?B/s]"
      ]
     },
     "metadata": {},
     "output_type": "display_data"
    },
    {
     "data": {
      "application/vnd.jupyter.widget-view+json": {
       "model_id": "17effdc284764999895590ac9082ae50",
       "version_major": 2,
       "version_minor": 0
      },
      "text/plain": [
       "Downloading:   0%|          | 0.00/48.0 [00:00<?, ?B/s]"
      ]
     },
     "metadata": {},
     "output_type": "display_data"
    },
    {
     "data": {
      "application/vnd.jupyter.widget-view+json": {
       "model_id": "8e68ceb459f74959a98205e32547a012",
       "version_major": 2,
       "version_minor": 0
      },
      "text/plain": [
       "Downloading:   0%|          | 0.00/232k [00:00<?, ?B/s]"
      ]
     },
     "metadata": {},
     "output_type": "display_data"
    },
    {
     "name": "stdout",
     "output_type": "stream",
     "text": [
      "138293\n",
      "0\n"
     ]
    },
    {
     "name": "stderr",
     "output_type": "stream",
     "text": [
      "Token indices sequence length is longer than the specified maximum sequence length for this model (830 > 512). Running this sequence through the model will result in indexing errors\n"
     ]
    },
    {
     "name": "stdout",
     "output_type": "stream",
     "text": [
      "10000\n",
      "20000\n",
      "30000\n",
      "40000\n",
      "50000\n",
      "60000\n",
      "70000\n",
      "80000\n",
      "90000\n",
      "100000\n",
      "110000\n",
      "120000\n",
      "130000\n"
     ]
    }
   ],
   "source": [
    "from transformers import pipeline\n",
    "\n",
    "nlp = pipeline(\"sentiment-analysis\")\n",
    "\n",
    "family_histories = set()\n",
    "\n",
    "for map in maps:\n",
    "    family_history = map.get(\"Family History\", \"\") \n",
    "    if family_history.strip():  \n",
    "        paragraphs = family_history.split('\\n \\n')\n",
    "        family_history = paragraphs[0]\n",
    "        family_history = family_history.replace('\\n', '').strip()\n",
    "        if family_history != '___':\n",
    "            family_histories.add(family_history)\n",
    "\n",
    "positive_count = 0\n",
    "negative_count = 0\n",
    "sentiments = []\n",
    "\n",
    "print(len(family_histories))\n",
    "for i, family_history in enumerate(family_histories):\n",
    "    if i % 10000 == 0:\n",
    "        print(i)\n",
    "    try:\n",
    "        result = nlp(family_history)\n",
    "        \n",
    "        sentiments.extend(result)\n",
    "        for item in result:\n",
    "            label = item['label']\n",
    "            if label == 'NEGATIVE':\n",
    "                negative_count += 1\n",
    "            elif label == 'POSITIVE':\n",
    "                positive_count += 1\n",
    "            else:\n",
    "                print(label)\n",
    "\n",
    "    except Exception as e:\n",
    "        continue"
   ]
  },
  {
   "cell_type": "code",
   "execution_count": 23,
   "metadata": {},
   "outputs": [
    {
     "data": {
      "application/vnd.plotly.v1+json": {
       "config": {
        "plotlyServerURL": "https://plot.ly"
       },
       "data": [
        {
         "customdata": [
          [
           "POSITIVE"
          ],
          [
           "NEGATIVE"
          ]
         ],
         "domain": {
          "x": [
           0,
           1
          ],
          "y": [
           0,
           1
          ]
         },
         "hovertemplate": "label=%{label}<br>value=%{value}<br>color=%{customdata[0]}<extra></extra>",
         "labels": [
          "POSITIVE",
          "NEGATIVE"
         ],
         "legendgroup": "",
         "marker": {
          "colors": [
           "green",
           "red"
          ]
         },
         "name": "",
         "showlegend": true,
         "type": "pie",
         "values": [
          16617,
          121669
         ]
        }
       ],
       "layout": {
        "legend": {
         "tracegroupgap": 0
        },
        "template": {
         "data": {
          "bar": [
           {
            "error_x": {
             "color": "#2a3f5f"
            },
            "error_y": {
             "color": "#2a3f5f"
            },
            "marker": {
             "line": {
              "color": "#E5ECF6",
              "width": 0.5
             },
             "pattern": {
              "fillmode": "overlay",
              "size": 10,
              "solidity": 0.2
             }
            },
            "type": "bar"
           }
          ],
          "barpolar": [
           {
            "marker": {
             "line": {
              "color": "#E5ECF6",
              "width": 0.5
             },
             "pattern": {
              "fillmode": "overlay",
              "size": 10,
              "solidity": 0.2
             }
            },
            "type": "barpolar"
           }
          ],
          "carpet": [
           {
            "aaxis": {
             "endlinecolor": "#2a3f5f",
             "gridcolor": "white",
             "linecolor": "white",
             "minorgridcolor": "white",
             "startlinecolor": "#2a3f5f"
            },
            "baxis": {
             "endlinecolor": "#2a3f5f",
             "gridcolor": "white",
             "linecolor": "white",
             "minorgridcolor": "white",
             "startlinecolor": "#2a3f5f"
            },
            "type": "carpet"
           }
          ],
          "choropleth": [
           {
            "colorbar": {
             "outlinewidth": 0,
             "ticks": ""
            },
            "type": "choropleth"
           }
          ],
          "contour": [
           {
            "colorbar": {
             "outlinewidth": 0,
             "ticks": ""
            },
            "colorscale": [
             [
              0,
              "#0d0887"
             ],
             [
              0.1111111111111111,
              "#46039f"
             ],
             [
              0.2222222222222222,
              "#7201a8"
             ],
             [
              0.3333333333333333,
              "#9c179e"
             ],
             [
              0.4444444444444444,
              "#bd3786"
             ],
             [
              0.5555555555555556,
              "#d8576b"
             ],
             [
              0.6666666666666666,
              "#ed7953"
             ],
             [
              0.7777777777777778,
              "#fb9f3a"
             ],
             [
              0.8888888888888888,
              "#fdca26"
             ],
             [
              1,
              "#f0f921"
             ]
            ],
            "type": "contour"
           }
          ],
          "contourcarpet": [
           {
            "colorbar": {
             "outlinewidth": 0,
             "ticks": ""
            },
            "type": "contourcarpet"
           }
          ],
          "heatmap": [
           {
            "colorbar": {
             "outlinewidth": 0,
             "ticks": ""
            },
            "colorscale": [
             [
              0,
              "#0d0887"
             ],
             [
              0.1111111111111111,
              "#46039f"
             ],
             [
              0.2222222222222222,
              "#7201a8"
             ],
             [
              0.3333333333333333,
              "#9c179e"
             ],
             [
              0.4444444444444444,
              "#bd3786"
             ],
             [
              0.5555555555555556,
              "#d8576b"
             ],
             [
              0.6666666666666666,
              "#ed7953"
             ],
             [
              0.7777777777777778,
              "#fb9f3a"
             ],
             [
              0.8888888888888888,
              "#fdca26"
             ],
             [
              1,
              "#f0f921"
             ]
            ],
            "type": "heatmap"
           }
          ],
          "heatmapgl": [
           {
            "colorbar": {
             "outlinewidth": 0,
             "ticks": ""
            },
            "colorscale": [
             [
              0,
              "#0d0887"
             ],
             [
              0.1111111111111111,
              "#46039f"
             ],
             [
              0.2222222222222222,
              "#7201a8"
             ],
             [
              0.3333333333333333,
              "#9c179e"
             ],
             [
              0.4444444444444444,
              "#bd3786"
             ],
             [
              0.5555555555555556,
              "#d8576b"
             ],
             [
              0.6666666666666666,
              "#ed7953"
             ],
             [
              0.7777777777777778,
              "#fb9f3a"
             ],
             [
              0.8888888888888888,
              "#fdca26"
             ],
             [
              1,
              "#f0f921"
             ]
            ],
            "type": "heatmapgl"
           }
          ],
          "histogram": [
           {
            "marker": {
             "pattern": {
              "fillmode": "overlay",
              "size": 10,
              "solidity": 0.2
             }
            },
            "type": "histogram"
           }
          ],
          "histogram2d": [
           {
            "colorbar": {
             "outlinewidth": 0,
             "ticks": ""
            },
            "colorscale": [
             [
              0,
              "#0d0887"
             ],
             [
              0.1111111111111111,
              "#46039f"
             ],
             [
              0.2222222222222222,
              "#7201a8"
             ],
             [
              0.3333333333333333,
              "#9c179e"
             ],
             [
              0.4444444444444444,
              "#bd3786"
             ],
             [
              0.5555555555555556,
              "#d8576b"
             ],
             [
              0.6666666666666666,
              "#ed7953"
             ],
             [
              0.7777777777777778,
              "#fb9f3a"
             ],
             [
              0.8888888888888888,
              "#fdca26"
             ],
             [
              1,
              "#f0f921"
             ]
            ],
            "type": "histogram2d"
           }
          ],
          "histogram2dcontour": [
           {
            "colorbar": {
             "outlinewidth": 0,
             "ticks": ""
            },
            "colorscale": [
             [
              0,
              "#0d0887"
             ],
             [
              0.1111111111111111,
              "#46039f"
             ],
             [
              0.2222222222222222,
              "#7201a8"
             ],
             [
              0.3333333333333333,
              "#9c179e"
             ],
             [
              0.4444444444444444,
              "#bd3786"
             ],
             [
              0.5555555555555556,
              "#d8576b"
             ],
             [
              0.6666666666666666,
              "#ed7953"
             ],
             [
              0.7777777777777778,
              "#fb9f3a"
             ],
             [
              0.8888888888888888,
              "#fdca26"
             ],
             [
              1,
              "#f0f921"
             ]
            ],
            "type": "histogram2dcontour"
           }
          ],
          "mesh3d": [
           {
            "colorbar": {
             "outlinewidth": 0,
             "ticks": ""
            },
            "type": "mesh3d"
           }
          ],
          "parcoords": [
           {
            "line": {
             "colorbar": {
              "outlinewidth": 0,
              "ticks": ""
             }
            },
            "type": "parcoords"
           }
          ],
          "pie": [
           {
            "automargin": true,
            "type": "pie"
           }
          ],
          "scatter": [
           {
            "fillpattern": {
             "fillmode": "overlay",
             "size": 10,
             "solidity": 0.2
            },
            "type": "scatter"
           }
          ],
          "scatter3d": [
           {
            "line": {
             "colorbar": {
              "outlinewidth": 0,
              "ticks": ""
             }
            },
            "marker": {
             "colorbar": {
              "outlinewidth": 0,
              "ticks": ""
             }
            },
            "type": "scatter3d"
           }
          ],
          "scattercarpet": [
           {
            "marker": {
             "colorbar": {
              "outlinewidth": 0,
              "ticks": ""
             }
            },
            "type": "scattercarpet"
           }
          ],
          "scattergeo": [
           {
            "marker": {
             "colorbar": {
              "outlinewidth": 0,
              "ticks": ""
             }
            },
            "type": "scattergeo"
           }
          ],
          "scattergl": [
           {
            "marker": {
             "colorbar": {
              "outlinewidth": 0,
              "ticks": ""
             }
            },
            "type": "scattergl"
           }
          ],
          "scattermapbox": [
           {
            "marker": {
             "colorbar": {
              "outlinewidth": 0,
              "ticks": ""
             }
            },
            "type": "scattermapbox"
           }
          ],
          "scatterpolar": [
           {
            "marker": {
             "colorbar": {
              "outlinewidth": 0,
              "ticks": ""
             }
            },
            "type": "scatterpolar"
           }
          ],
          "scatterpolargl": [
           {
            "marker": {
             "colorbar": {
              "outlinewidth": 0,
              "ticks": ""
             }
            },
            "type": "scatterpolargl"
           }
          ],
          "scatterternary": [
           {
            "marker": {
             "colorbar": {
              "outlinewidth": 0,
              "ticks": ""
             }
            },
            "type": "scatterternary"
           }
          ],
          "surface": [
           {
            "colorbar": {
             "outlinewidth": 0,
             "ticks": ""
            },
            "colorscale": [
             [
              0,
              "#0d0887"
             ],
             [
              0.1111111111111111,
              "#46039f"
             ],
             [
              0.2222222222222222,
              "#7201a8"
             ],
             [
              0.3333333333333333,
              "#9c179e"
             ],
             [
              0.4444444444444444,
              "#bd3786"
             ],
             [
              0.5555555555555556,
              "#d8576b"
             ],
             [
              0.6666666666666666,
              "#ed7953"
             ],
             [
              0.7777777777777778,
              "#fb9f3a"
             ],
             [
              0.8888888888888888,
              "#fdca26"
             ],
             [
              1,
              "#f0f921"
             ]
            ],
            "type": "surface"
           }
          ],
          "table": [
           {
            "cells": {
             "fill": {
              "color": "#EBF0F8"
             },
             "line": {
              "color": "white"
             }
            },
            "header": {
             "fill": {
              "color": "#C8D4E3"
             },
             "line": {
              "color": "white"
             }
            },
            "type": "table"
           }
          ]
         },
         "layout": {
          "annotationdefaults": {
           "arrowcolor": "#2a3f5f",
           "arrowhead": 0,
           "arrowwidth": 1
          },
          "autotypenumbers": "strict",
          "coloraxis": {
           "colorbar": {
            "outlinewidth": 0,
            "ticks": ""
           }
          },
          "colorscale": {
           "diverging": [
            [
             0,
             "#8e0152"
            ],
            [
             0.1,
             "#c51b7d"
            ],
            [
             0.2,
             "#de77ae"
            ],
            [
             0.3,
             "#f1b6da"
            ],
            [
             0.4,
             "#fde0ef"
            ],
            [
             0.5,
             "#f7f7f7"
            ],
            [
             0.6,
             "#e6f5d0"
            ],
            [
             0.7,
             "#b8e186"
            ],
            [
             0.8,
             "#7fbc41"
            ],
            [
             0.9,
             "#4d9221"
            ],
            [
             1,
             "#276419"
            ]
           ],
           "sequential": [
            [
             0,
             "#0d0887"
            ],
            [
             0.1111111111111111,
             "#46039f"
            ],
            [
             0.2222222222222222,
             "#7201a8"
            ],
            [
             0.3333333333333333,
             "#9c179e"
            ],
            [
             0.4444444444444444,
             "#bd3786"
            ],
            [
             0.5555555555555556,
             "#d8576b"
            ],
            [
             0.6666666666666666,
             "#ed7953"
            ],
            [
             0.7777777777777778,
             "#fb9f3a"
            ],
            [
             0.8888888888888888,
             "#fdca26"
            ],
            [
             1,
             "#f0f921"
            ]
           ],
           "sequentialminus": [
            [
             0,
             "#0d0887"
            ],
            [
             0.1111111111111111,
             "#46039f"
            ],
            [
             0.2222222222222222,
             "#7201a8"
            ],
            [
             0.3333333333333333,
             "#9c179e"
            ],
            [
             0.4444444444444444,
             "#bd3786"
            ],
            [
             0.5555555555555556,
             "#d8576b"
            ],
            [
             0.6666666666666666,
             "#ed7953"
            ],
            [
             0.7777777777777778,
             "#fb9f3a"
            ],
            [
             0.8888888888888888,
             "#fdca26"
            ],
            [
             1,
             "#f0f921"
            ]
           ]
          },
          "colorway": [
           "#636efa",
           "#EF553B",
           "#00cc96",
           "#ab63fa",
           "#FFA15A",
           "#19d3f3",
           "#FF6692",
           "#B6E880",
           "#FF97FF",
           "#FECB52"
          ],
          "font": {
           "color": "#2a3f5f"
          },
          "geo": {
           "bgcolor": "white",
           "lakecolor": "white",
           "landcolor": "#E5ECF6",
           "showlakes": true,
           "showland": true,
           "subunitcolor": "white"
          },
          "hoverlabel": {
           "align": "left"
          },
          "hovermode": "closest",
          "mapbox": {
           "style": "light"
          },
          "paper_bgcolor": "white",
          "plot_bgcolor": "#E5ECF6",
          "polar": {
           "angularaxis": {
            "gridcolor": "white",
            "linecolor": "white",
            "ticks": ""
           },
           "bgcolor": "#E5ECF6",
           "radialaxis": {
            "gridcolor": "white",
            "linecolor": "white",
            "ticks": ""
           }
          },
          "scene": {
           "xaxis": {
            "backgroundcolor": "#E5ECF6",
            "gridcolor": "white",
            "gridwidth": 2,
            "linecolor": "white",
            "showbackground": true,
            "ticks": "",
            "zerolinecolor": "white"
           },
           "yaxis": {
            "backgroundcolor": "#E5ECF6",
            "gridcolor": "white",
            "gridwidth": 2,
            "linecolor": "white",
            "showbackground": true,
            "ticks": "",
            "zerolinecolor": "white"
           },
           "zaxis": {
            "backgroundcolor": "#E5ECF6",
            "gridcolor": "white",
            "gridwidth": 2,
            "linecolor": "white",
            "showbackground": true,
            "ticks": "",
            "zerolinecolor": "white"
           }
          },
          "shapedefaults": {
           "line": {
            "color": "#2a3f5f"
           }
          },
          "ternary": {
           "aaxis": {
            "gridcolor": "white",
            "linecolor": "white",
            "ticks": ""
           },
           "baxis": {
            "gridcolor": "white",
            "linecolor": "white",
            "ticks": ""
           },
           "bgcolor": "#E5ECF6",
           "caxis": {
            "gridcolor": "white",
            "linecolor": "white",
            "ticks": ""
           }
          },
          "title": {
           "x": 0.05
          },
          "xaxis": {
           "automargin": true,
           "gridcolor": "white",
           "linecolor": "white",
           "ticks": "",
           "title": {
            "standoff": 15
           },
           "zerolinecolor": "white",
           "zerolinewidth": 2
          },
          "yaxis": {
           "automargin": true,
           "gridcolor": "white",
           "linecolor": "white",
           "ticks": "",
           "title": {
            "standoff": 15
           },
           "zerolinecolor": "white",
           "zerolinewidth": 2
          }
         }
        },
        "title": {
         "text": "Sentiment Analysis of Family Histories"
        }
       }
      }
     },
     "metadata": {},
     "output_type": "display_data"
    }
   ],
   "source": [
    "import plotly.express as px\n",
    "\n",
    "labels = ['POSITIVE', 'NEGATIVE']\n",
    "sizes = [positive_count, negative_count]\n",
    "\n",
    "fig = px.pie(values=sizes, names=labels, \n",
    "             color=labels,\n",
    "             color_discrete_map={'POSITIVE': 'green', 'NEGATIVE': 'red'},\n",
    "             title='Sentiment Analysis of Family Histories')\n",
    "\n",
    "fig.show()\n"
   ]
  },
  {
   "cell_type": "code",
   "execution_count": 25,
   "metadata": {},
   "outputs": [],
   "source": [
    "nlp = spacy.load(\"en_core_web_sm\")"
   ]
  },
  {
   "cell_type": "code",
   "execution_count": 63,
   "metadata": {},
   "outputs": [
    {
     "name": "stdout",
     "output_type": "stream",
     "text": [
      "Collecting TextBlob\n",
      "  Using cached textblob-0.17.1-py2.py3-none-any.whl (636 kB)\n",
      "Requirement already satisfied: nltk>=3.1 in c:\\users\\13980611\\anaconda3\\lib\\site-packages (from TextBlob) (3.2.4)\n",
      "Requirement already satisfied: six in c:\\users\\13980611\\anaconda3\\lib\\site-packages (from nltk>=3.1->TextBlob) (1.16.0)\n",
      "Installing collected packages: TextBlob\n",
      "Successfully installed TextBlob-0.17.1\n"
     ]
    },
    {
     "name": "stderr",
     "output_type": "stream",
     "text": [
      "DEPRECATION: pyodbc 4.0.0-unsupported has a non-standard version number. pip 23.3 will enforce this behaviour change. A possible replacement is to upgrade to a newer version of pyodbc or contact the author to suggest that they release a version with a conforming version number. Discussion can be found at https://github.com/pypa/pip/issues/12063\n",
      "\n",
      "[notice] A new release of pip is available: 23.2.1 -> 23.3.1\n",
      "[notice] To update, run: python.exe -m pip install --upgrade pip\n"
     ]
    }
   ],
   "source": [
    "!pip install TextBlob"
   ]
  },
  {
   "cell_type": "code",
   "execution_count": 119,
   "metadata": {},
   "outputs": [
    {
     "name": "stdout",
     "output_type": "stream",
     "text": [
      "138293\n",
      "0\n",
      "10000\n",
      "20000\n",
      "30000\n",
      "40000\n",
      "50000\n",
      "60000\n",
      "70000\n",
      "80000\n",
      "90000\n",
      "100000\n",
      "110000\n",
      "120000\n",
      "130000\n"
     ]
    }
   ],
   "source": [
    "from textblob import TextBlob\n",
    "\n",
    "positive_count = 0\n",
    "negative_count = 0\n",
    "neutral_count = 0\n",
    "sentiments = []\n",
    "\n",
    "print(len(family_histories))\n",
    "for i, family_history in enumerate(family_histories):\n",
    "    if i % 10000 == 0:\n",
    "        print(i)\n",
    "    try:\n",
    "        blob = TextBlob(family_history)\n",
    "        if blob.sentiment.polarity < 0:\n",
    "            negative_count += 1\n",
    "        elif blob.sentiment.polarity > 0:\n",
    "            positive_count += 1\n",
    "        else:\n",
    "            neutral_count += 1\n",
    "\n",
    "        sentiments.extend(blob)\n",
    "        \n",
    "\n",
    "    except Exception as e:\n",
    "        continue"
   ]
  },
  {
   "cell_type": "code",
   "execution_count": 123,
   "metadata": {},
   "outputs": [
    {
     "data": {
      "application/vnd.plotly.v1+json": {
       "config": {
        "plotlyServerURL": "https://plot.ly"
       },
       "data": [
        {
         "customdata": [
          [
           "POSITIVE"
          ],
          [
           "NEGATIVE"
          ],
          [
           "NEUTRAL"
          ]
         ],
         "domain": {
          "x": [
           0,
           1
          ],
          "y": [
           0,
           1
          ]
         },
         "hovertemplate": "label=%{label}<br>value=%{value}<br>color=%{customdata[0]}<extra></extra>",
         "labels": [
          "POSITIVE",
          "NEGATIVE",
          "NEUTRAL"
         ],
         "legendgroup": "",
         "marker": {
          "colors": [
           "green",
           "red",
           "blue"
          ]
         },
         "name": "",
         "showlegend": true,
         "type": "pie",
         "values": [
          33643,
          25104,
          79546
         ]
        }
       ],
       "layout": {
        "legend": {
         "tracegroupgap": 0
        },
        "template": {
         "data": {
          "bar": [
           {
            "error_x": {
             "color": "#2a3f5f"
            },
            "error_y": {
             "color": "#2a3f5f"
            },
            "marker": {
             "line": {
              "color": "#E5ECF6",
              "width": 0.5
             },
             "pattern": {
              "fillmode": "overlay",
              "size": 10,
              "solidity": 0.2
             }
            },
            "type": "bar"
           }
          ],
          "barpolar": [
           {
            "marker": {
             "line": {
              "color": "#E5ECF6",
              "width": 0.5
             },
             "pattern": {
              "fillmode": "overlay",
              "size": 10,
              "solidity": 0.2
             }
            },
            "type": "barpolar"
           }
          ],
          "carpet": [
           {
            "aaxis": {
             "endlinecolor": "#2a3f5f",
             "gridcolor": "white",
             "linecolor": "white",
             "minorgridcolor": "white",
             "startlinecolor": "#2a3f5f"
            },
            "baxis": {
             "endlinecolor": "#2a3f5f",
             "gridcolor": "white",
             "linecolor": "white",
             "minorgridcolor": "white",
             "startlinecolor": "#2a3f5f"
            },
            "type": "carpet"
           }
          ],
          "choropleth": [
           {
            "colorbar": {
             "outlinewidth": 0,
             "ticks": ""
            },
            "type": "choropleth"
           }
          ],
          "contour": [
           {
            "colorbar": {
             "outlinewidth": 0,
             "ticks": ""
            },
            "colorscale": [
             [
              0,
              "#0d0887"
             ],
             [
              0.1111111111111111,
              "#46039f"
             ],
             [
              0.2222222222222222,
              "#7201a8"
             ],
             [
              0.3333333333333333,
              "#9c179e"
             ],
             [
              0.4444444444444444,
              "#bd3786"
             ],
             [
              0.5555555555555556,
              "#d8576b"
             ],
             [
              0.6666666666666666,
              "#ed7953"
             ],
             [
              0.7777777777777778,
              "#fb9f3a"
             ],
             [
              0.8888888888888888,
              "#fdca26"
             ],
             [
              1,
              "#f0f921"
             ]
            ],
            "type": "contour"
           }
          ],
          "contourcarpet": [
           {
            "colorbar": {
             "outlinewidth": 0,
             "ticks": ""
            },
            "type": "contourcarpet"
           }
          ],
          "heatmap": [
           {
            "colorbar": {
             "outlinewidth": 0,
             "ticks": ""
            },
            "colorscale": [
             [
              0,
              "#0d0887"
             ],
             [
              0.1111111111111111,
              "#46039f"
             ],
             [
              0.2222222222222222,
              "#7201a8"
             ],
             [
              0.3333333333333333,
              "#9c179e"
             ],
             [
              0.4444444444444444,
              "#bd3786"
             ],
             [
              0.5555555555555556,
              "#d8576b"
             ],
             [
              0.6666666666666666,
              "#ed7953"
             ],
             [
              0.7777777777777778,
              "#fb9f3a"
             ],
             [
              0.8888888888888888,
              "#fdca26"
             ],
             [
              1,
              "#f0f921"
             ]
            ],
            "type": "heatmap"
           }
          ],
          "heatmapgl": [
           {
            "colorbar": {
             "outlinewidth": 0,
             "ticks": ""
            },
            "colorscale": [
             [
              0,
              "#0d0887"
             ],
             [
              0.1111111111111111,
              "#46039f"
             ],
             [
              0.2222222222222222,
              "#7201a8"
             ],
             [
              0.3333333333333333,
              "#9c179e"
             ],
             [
              0.4444444444444444,
              "#bd3786"
             ],
             [
              0.5555555555555556,
              "#d8576b"
             ],
             [
              0.6666666666666666,
              "#ed7953"
             ],
             [
              0.7777777777777778,
              "#fb9f3a"
             ],
             [
              0.8888888888888888,
              "#fdca26"
             ],
             [
              1,
              "#f0f921"
             ]
            ],
            "type": "heatmapgl"
           }
          ],
          "histogram": [
           {
            "marker": {
             "pattern": {
              "fillmode": "overlay",
              "size": 10,
              "solidity": 0.2
             }
            },
            "type": "histogram"
           }
          ],
          "histogram2d": [
           {
            "colorbar": {
             "outlinewidth": 0,
             "ticks": ""
            },
            "colorscale": [
             [
              0,
              "#0d0887"
             ],
             [
              0.1111111111111111,
              "#46039f"
             ],
             [
              0.2222222222222222,
              "#7201a8"
             ],
             [
              0.3333333333333333,
              "#9c179e"
             ],
             [
              0.4444444444444444,
              "#bd3786"
             ],
             [
              0.5555555555555556,
              "#d8576b"
             ],
             [
              0.6666666666666666,
              "#ed7953"
             ],
             [
              0.7777777777777778,
              "#fb9f3a"
             ],
             [
              0.8888888888888888,
              "#fdca26"
             ],
             [
              1,
              "#f0f921"
             ]
            ],
            "type": "histogram2d"
           }
          ],
          "histogram2dcontour": [
           {
            "colorbar": {
             "outlinewidth": 0,
             "ticks": ""
            },
            "colorscale": [
             [
              0,
              "#0d0887"
             ],
             [
              0.1111111111111111,
              "#46039f"
             ],
             [
              0.2222222222222222,
              "#7201a8"
             ],
             [
              0.3333333333333333,
              "#9c179e"
             ],
             [
              0.4444444444444444,
              "#bd3786"
             ],
             [
              0.5555555555555556,
              "#d8576b"
             ],
             [
              0.6666666666666666,
              "#ed7953"
             ],
             [
              0.7777777777777778,
              "#fb9f3a"
             ],
             [
              0.8888888888888888,
              "#fdca26"
             ],
             [
              1,
              "#f0f921"
             ]
            ],
            "type": "histogram2dcontour"
           }
          ],
          "mesh3d": [
           {
            "colorbar": {
             "outlinewidth": 0,
             "ticks": ""
            },
            "type": "mesh3d"
           }
          ],
          "parcoords": [
           {
            "line": {
             "colorbar": {
              "outlinewidth": 0,
              "ticks": ""
             }
            },
            "type": "parcoords"
           }
          ],
          "pie": [
           {
            "automargin": true,
            "type": "pie"
           }
          ],
          "scatter": [
           {
            "fillpattern": {
             "fillmode": "overlay",
             "size": 10,
             "solidity": 0.2
            },
            "type": "scatter"
           }
          ],
          "scatter3d": [
           {
            "line": {
             "colorbar": {
              "outlinewidth": 0,
              "ticks": ""
             }
            },
            "marker": {
             "colorbar": {
              "outlinewidth": 0,
              "ticks": ""
             }
            },
            "type": "scatter3d"
           }
          ],
          "scattercarpet": [
           {
            "marker": {
             "colorbar": {
              "outlinewidth": 0,
              "ticks": ""
             }
            },
            "type": "scattercarpet"
           }
          ],
          "scattergeo": [
           {
            "marker": {
             "colorbar": {
              "outlinewidth": 0,
              "ticks": ""
             }
            },
            "type": "scattergeo"
           }
          ],
          "scattergl": [
           {
            "marker": {
             "colorbar": {
              "outlinewidth": 0,
              "ticks": ""
             }
            },
            "type": "scattergl"
           }
          ],
          "scattermapbox": [
           {
            "marker": {
             "colorbar": {
              "outlinewidth": 0,
              "ticks": ""
             }
            },
            "type": "scattermapbox"
           }
          ],
          "scatterpolar": [
           {
            "marker": {
             "colorbar": {
              "outlinewidth": 0,
              "ticks": ""
             }
            },
            "type": "scatterpolar"
           }
          ],
          "scatterpolargl": [
           {
            "marker": {
             "colorbar": {
              "outlinewidth": 0,
              "ticks": ""
             }
            },
            "type": "scatterpolargl"
           }
          ],
          "scatterternary": [
           {
            "marker": {
             "colorbar": {
              "outlinewidth": 0,
              "ticks": ""
             }
            },
            "type": "scatterternary"
           }
          ],
          "surface": [
           {
            "colorbar": {
             "outlinewidth": 0,
             "ticks": ""
            },
            "colorscale": [
             [
              0,
              "#0d0887"
             ],
             [
              0.1111111111111111,
              "#46039f"
             ],
             [
              0.2222222222222222,
              "#7201a8"
             ],
             [
              0.3333333333333333,
              "#9c179e"
             ],
             [
              0.4444444444444444,
              "#bd3786"
             ],
             [
              0.5555555555555556,
              "#d8576b"
             ],
             [
              0.6666666666666666,
              "#ed7953"
             ],
             [
              0.7777777777777778,
              "#fb9f3a"
             ],
             [
              0.8888888888888888,
              "#fdca26"
             ],
             [
              1,
              "#f0f921"
             ]
            ],
            "type": "surface"
           }
          ],
          "table": [
           {
            "cells": {
             "fill": {
              "color": "#EBF0F8"
             },
             "line": {
              "color": "white"
             }
            },
            "header": {
             "fill": {
              "color": "#C8D4E3"
             },
             "line": {
              "color": "white"
             }
            },
            "type": "table"
           }
          ]
         },
         "layout": {
          "annotationdefaults": {
           "arrowcolor": "#2a3f5f",
           "arrowhead": 0,
           "arrowwidth": 1
          },
          "autotypenumbers": "strict",
          "coloraxis": {
           "colorbar": {
            "outlinewidth": 0,
            "ticks": ""
           }
          },
          "colorscale": {
           "diverging": [
            [
             0,
             "#8e0152"
            ],
            [
             0.1,
             "#c51b7d"
            ],
            [
             0.2,
             "#de77ae"
            ],
            [
             0.3,
             "#f1b6da"
            ],
            [
             0.4,
             "#fde0ef"
            ],
            [
             0.5,
             "#f7f7f7"
            ],
            [
             0.6,
             "#e6f5d0"
            ],
            [
             0.7,
             "#b8e186"
            ],
            [
             0.8,
             "#7fbc41"
            ],
            [
             0.9,
             "#4d9221"
            ],
            [
             1,
             "#276419"
            ]
           ],
           "sequential": [
            [
             0,
             "#0d0887"
            ],
            [
             0.1111111111111111,
             "#46039f"
            ],
            [
             0.2222222222222222,
             "#7201a8"
            ],
            [
             0.3333333333333333,
             "#9c179e"
            ],
            [
             0.4444444444444444,
             "#bd3786"
            ],
            [
             0.5555555555555556,
             "#d8576b"
            ],
            [
             0.6666666666666666,
             "#ed7953"
            ],
            [
             0.7777777777777778,
             "#fb9f3a"
            ],
            [
             0.8888888888888888,
             "#fdca26"
            ],
            [
             1,
             "#f0f921"
            ]
           ],
           "sequentialminus": [
            [
             0,
             "#0d0887"
            ],
            [
             0.1111111111111111,
             "#46039f"
            ],
            [
             0.2222222222222222,
             "#7201a8"
            ],
            [
             0.3333333333333333,
             "#9c179e"
            ],
            [
             0.4444444444444444,
             "#bd3786"
            ],
            [
             0.5555555555555556,
             "#d8576b"
            ],
            [
             0.6666666666666666,
             "#ed7953"
            ],
            [
             0.7777777777777778,
             "#fb9f3a"
            ],
            [
             0.8888888888888888,
             "#fdca26"
            ],
            [
             1,
             "#f0f921"
            ]
           ]
          },
          "colorway": [
           "#636efa",
           "#EF553B",
           "#00cc96",
           "#ab63fa",
           "#FFA15A",
           "#19d3f3",
           "#FF6692",
           "#B6E880",
           "#FF97FF",
           "#FECB52"
          ],
          "font": {
           "color": "#2a3f5f"
          },
          "geo": {
           "bgcolor": "white",
           "lakecolor": "white",
           "landcolor": "#E5ECF6",
           "showlakes": true,
           "showland": true,
           "subunitcolor": "white"
          },
          "hoverlabel": {
           "align": "left"
          },
          "hovermode": "closest",
          "mapbox": {
           "style": "light"
          },
          "paper_bgcolor": "white",
          "plot_bgcolor": "#E5ECF6",
          "polar": {
           "angularaxis": {
            "gridcolor": "white",
            "linecolor": "white",
            "ticks": ""
           },
           "bgcolor": "#E5ECF6",
           "radialaxis": {
            "gridcolor": "white",
            "linecolor": "white",
            "ticks": ""
           }
          },
          "scene": {
           "xaxis": {
            "backgroundcolor": "#E5ECF6",
            "gridcolor": "white",
            "gridwidth": 2,
            "linecolor": "white",
            "showbackground": true,
            "ticks": "",
            "zerolinecolor": "white"
           },
           "yaxis": {
            "backgroundcolor": "#E5ECF6",
            "gridcolor": "white",
            "gridwidth": 2,
            "linecolor": "white",
            "showbackground": true,
            "ticks": "",
            "zerolinecolor": "white"
           },
           "zaxis": {
            "backgroundcolor": "#E5ECF6",
            "gridcolor": "white",
            "gridwidth": 2,
            "linecolor": "white",
            "showbackground": true,
            "ticks": "",
            "zerolinecolor": "white"
           }
          },
          "shapedefaults": {
           "line": {
            "color": "#2a3f5f"
           }
          },
          "ternary": {
           "aaxis": {
            "gridcolor": "white",
            "linecolor": "white",
            "ticks": ""
           },
           "baxis": {
            "gridcolor": "white",
            "linecolor": "white",
            "ticks": ""
           },
           "bgcolor": "#E5ECF6",
           "caxis": {
            "gridcolor": "white",
            "linecolor": "white",
            "ticks": ""
           }
          },
          "title": {
           "x": 0.05
          },
          "xaxis": {
           "automargin": true,
           "gridcolor": "white",
           "linecolor": "white",
           "ticks": "",
           "title": {
            "standoff": 15
           },
           "zerolinecolor": "white",
           "zerolinewidth": 2
          },
          "yaxis": {
           "automargin": true,
           "gridcolor": "white",
           "linecolor": "white",
           "ticks": "",
           "title": {
            "standoff": 15
           },
           "zerolinecolor": "white",
           "zerolinewidth": 2
          }
         }
        },
        "title": {
         "text": "Sentiment Analysis of Family Histories"
        }
       }
      }
     },
     "metadata": {},
     "output_type": "display_data"
    }
   ],
   "source": [
    "labels = ['POSITIVE', 'NEGATIVE', 'NEUTRAL']\n",
    "sizes = [positive_count, negative_count, neutral_count]\n",
    "\n",
    "fig = px.pie(values=sizes, names=labels, \n",
    "             color=labels,\n",
    "             color_discrete_map={'POSITIVE': 'green', 'NEGATIVE': 'red', 'NEUTRAL': 'blue'},\n",
    "             title='Sentiment Analysis of Family Histories')\n",
    "\n",
    "fig.show()\n"
   ]
  },
  {
   "cell_type": "code",
   "execution_count": 77,
   "metadata": {},
   "outputs": [
    {
     "name": "stderr",
     "output_type": "stream",
     "text": [
      "Some weights of the model checkpoint at emilyalsentzer/Bio_ClinicalBERT were not used when initializing BertForSequenceClassification: ['cls.seq_relationship.bias', 'cls.predictions.transform.dense.weight', 'cls.predictions.bias', 'cls.predictions.decoder.weight', 'cls.predictions.transform.LayerNorm.weight', 'cls.predictions.transform.LayerNorm.bias', 'cls.predictions.transform.dense.bias', 'cls.seq_relationship.weight']\n",
      "- This IS expected if you are initializing BertForSequenceClassification from the checkpoint of a model trained on another task or with another architecture (e.g. initializing a BertForSequenceClassification model from a BertForPreTraining model).\n",
      "- This IS NOT expected if you are initializing BertForSequenceClassification from the checkpoint of a model that you expect to be exactly identical (initializing a BertForSequenceClassification model from a BertForSequenceClassification model).\n",
      "Some weights of BertForSequenceClassification were not initialized from the model checkpoint at emilyalsentzer/Bio_ClinicalBERT and are newly initialized: ['classifier.weight', 'classifier.bias']\n",
      "You should probably TRAIN this model on a down-stream task to be able to use it for predictions and inference.\n"
     ]
    }
   ],
   "source": [
    "\n",
    "from transformers import AutoModelForSequenceClassification, AutoTokenizer\n",
    "import torch\n",
    "\n",
    "model_name = \"emilyalsentzer/Bio_ClinicalBERT\"\n",
    "model = AutoModelForSequenceClassification.from_pretrained(model_name)\n",
    "tokenizer = AutoTokenizer.from_pretrained(model_name)\n"
   ]
  },
  {
   "cell_type": "code",
   "execution_count": 94,
   "metadata": {},
   "outputs": [],
   "source": [
    "def classify_sentence(sentence):\n",
    "    inputs = tokenizer(sentence, return_tensors=\"pt\")\n",
    "    outputs = model(**inputs)\n",
    "    probabilities = torch.nn.functional.softmax(outputs[0], dim=-1)\n",
    "    prediction = torch.argmax(probabilities).item()\n",
    "    return prediction\n"
   ]
  },
  {
   "cell_type": "code",
   "execution_count": 117,
   "metadata": {},
   "outputs": [],
   "source": [
    "def check_substance_abuse(sentences):\n",
    "    addiction = 0\n",
    "    no_addiction = 0\n",
    "    for sentence in tqdm(sentences, desc=\"Checking Substance Abuse\"):\n",
    "        try:\n",
    "            prediction = classify_sentence(sentence)\n",
    "            if prediction == 0:\n",
    "                addiction += 1\n",
    "                #print(\"Prediction: Contains signs of addiction or abuse\")\n",
    "            else:\n",
    "                no_addiction += 1\n",
    "                #print(\"Prediction: Does not contain signs of addiction or abuse\")\n",
    "        except Exception as e:\n",
    "            continue\n",
    "    return addiction, no_addiction"
   ]
  },
  {
   "cell_type": "code",
   "execution_count": 112,
   "metadata": {},
   "outputs": [
    {
     "name": "stderr",
     "output_type": "stream",
     "text": [
      "Processing notes:   0%|          | 0/10000 [00:00<?, ?it/s]"
     ]
    },
    {
     "name": "stderr",
     "output_type": "stream",
     "text": [
      "Processing notes: 100%|██████████| 10000/10000 [00:28<00:00, 352.58it/s]\n"
     ]
    }
   ],
   "source": [
    "from tqdm import tqdm\n",
    "\n",
    "substances = [\"alcohol\", \"tobacco\", \"cannabis\", \"weed\", \"marijuana\", \"drug\"]\n",
    "\n",
    "substance_sentences = []\n",
    "\n",
    "for i, note in enumerate(tqdm(discharge_data[:10000], desc=\"Processing notes\", leave=True)):\n",
    "    note = note[0].replace('\\n', '').strip()\n",
    "    sentences = sent_tokenize(note)\n",
    "    note_sentences = \"\"\n",
    "    for sentence in sentences:\n",
    "        if any(substance in sentence.lower() for substance in substances):\n",
    "            note_sentences += sentence\n",
    "    if note_sentences != \"\":\n",
    "        substance_sentences.append(note_sentences)"
   ]
  },
  {
   "cell_type": "code",
   "execution_count": 118,
   "metadata": {},
   "outputs": [
    {
     "name": "stderr",
     "output_type": "stream",
     "text": [
      "Checking Substance Abuse: 100%|██████████| 6107/6107 [26:09<00:00,  3.89it/s]    \n"
     ]
    }
   ],
   "source": [
    "addiction, no_addiction = check_substance_abuse(substance_sentences)"
   ]
  },
  {
   "cell_type": "code",
   "execution_count": 121,
   "metadata": {},
   "outputs": [
    {
     "data": {
      "application/vnd.plotly.v1+json": {
       "config": {
        "plotlyServerURL": "https://plot.ly"
       },
       "data": [
        {
         "hoverinfo": "label+percent",
         "labels": [
          "Addiction",
          "No-addiction",
          "Other"
         ],
         "marker": {
          "colors": [
           "gold",
           "yellowgreen",
           "lightcoral"
          ],
          "line": {
           "color": "#000000",
           "width": 2
          }
         },
         "textfont": {
          "size": 20
         },
         "textinfo": "value",
         "type": "pie",
         "values": [
          1047,
          4689,
          4264
         ]
        }
       ],
       "layout": {
        "template": {
         "data": {
          "bar": [
           {
            "error_x": {
             "color": "#2a3f5f"
            },
            "error_y": {
             "color": "#2a3f5f"
            },
            "marker": {
             "line": {
              "color": "#E5ECF6",
              "width": 0.5
             },
             "pattern": {
              "fillmode": "overlay",
              "size": 10,
              "solidity": 0.2
             }
            },
            "type": "bar"
           }
          ],
          "barpolar": [
           {
            "marker": {
             "line": {
              "color": "#E5ECF6",
              "width": 0.5
             },
             "pattern": {
              "fillmode": "overlay",
              "size": 10,
              "solidity": 0.2
             }
            },
            "type": "barpolar"
           }
          ],
          "carpet": [
           {
            "aaxis": {
             "endlinecolor": "#2a3f5f",
             "gridcolor": "white",
             "linecolor": "white",
             "minorgridcolor": "white",
             "startlinecolor": "#2a3f5f"
            },
            "baxis": {
             "endlinecolor": "#2a3f5f",
             "gridcolor": "white",
             "linecolor": "white",
             "minorgridcolor": "white",
             "startlinecolor": "#2a3f5f"
            },
            "type": "carpet"
           }
          ],
          "choropleth": [
           {
            "colorbar": {
             "outlinewidth": 0,
             "ticks": ""
            },
            "type": "choropleth"
           }
          ],
          "contour": [
           {
            "colorbar": {
             "outlinewidth": 0,
             "ticks": ""
            },
            "colorscale": [
             [
              0,
              "#0d0887"
             ],
             [
              0.1111111111111111,
              "#46039f"
             ],
             [
              0.2222222222222222,
              "#7201a8"
             ],
             [
              0.3333333333333333,
              "#9c179e"
             ],
             [
              0.4444444444444444,
              "#bd3786"
             ],
             [
              0.5555555555555556,
              "#d8576b"
             ],
             [
              0.6666666666666666,
              "#ed7953"
             ],
             [
              0.7777777777777778,
              "#fb9f3a"
             ],
             [
              0.8888888888888888,
              "#fdca26"
             ],
             [
              1,
              "#f0f921"
             ]
            ],
            "type": "contour"
           }
          ],
          "contourcarpet": [
           {
            "colorbar": {
             "outlinewidth": 0,
             "ticks": ""
            },
            "type": "contourcarpet"
           }
          ],
          "heatmap": [
           {
            "colorbar": {
             "outlinewidth": 0,
             "ticks": ""
            },
            "colorscale": [
             [
              0,
              "#0d0887"
             ],
             [
              0.1111111111111111,
              "#46039f"
             ],
             [
              0.2222222222222222,
              "#7201a8"
             ],
             [
              0.3333333333333333,
              "#9c179e"
             ],
             [
              0.4444444444444444,
              "#bd3786"
             ],
             [
              0.5555555555555556,
              "#d8576b"
             ],
             [
              0.6666666666666666,
              "#ed7953"
             ],
             [
              0.7777777777777778,
              "#fb9f3a"
             ],
             [
              0.8888888888888888,
              "#fdca26"
             ],
             [
              1,
              "#f0f921"
             ]
            ],
            "type": "heatmap"
           }
          ],
          "heatmapgl": [
           {
            "colorbar": {
             "outlinewidth": 0,
             "ticks": ""
            },
            "colorscale": [
             [
              0,
              "#0d0887"
             ],
             [
              0.1111111111111111,
              "#46039f"
             ],
             [
              0.2222222222222222,
              "#7201a8"
             ],
             [
              0.3333333333333333,
              "#9c179e"
             ],
             [
              0.4444444444444444,
              "#bd3786"
             ],
             [
              0.5555555555555556,
              "#d8576b"
             ],
             [
              0.6666666666666666,
              "#ed7953"
             ],
             [
              0.7777777777777778,
              "#fb9f3a"
             ],
             [
              0.8888888888888888,
              "#fdca26"
             ],
             [
              1,
              "#f0f921"
             ]
            ],
            "type": "heatmapgl"
           }
          ],
          "histogram": [
           {
            "marker": {
             "pattern": {
              "fillmode": "overlay",
              "size": 10,
              "solidity": 0.2
             }
            },
            "type": "histogram"
           }
          ],
          "histogram2d": [
           {
            "colorbar": {
             "outlinewidth": 0,
             "ticks": ""
            },
            "colorscale": [
             [
              0,
              "#0d0887"
             ],
             [
              0.1111111111111111,
              "#46039f"
             ],
             [
              0.2222222222222222,
              "#7201a8"
             ],
             [
              0.3333333333333333,
              "#9c179e"
             ],
             [
              0.4444444444444444,
              "#bd3786"
             ],
             [
              0.5555555555555556,
              "#d8576b"
             ],
             [
              0.6666666666666666,
              "#ed7953"
             ],
             [
              0.7777777777777778,
              "#fb9f3a"
             ],
             [
              0.8888888888888888,
              "#fdca26"
             ],
             [
              1,
              "#f0f921"
             ]
            ],
            "type": "histogram2d"
           }
          ],
          "histogram2dcontour": [
           {
            "colorbar": {
             "outlinewidth": 0,
             "ticks": ""
            },
            "colorscale": [
             [
              0,
              "#0d0887"
             ],
             [
              0.1111111111111111,
              "#46039f"
             ],
             [
              0.2222222222222222,
              "#7201a8"
             ],
             [
              0.3333333333333333,
              "#9c179e"
             ],
             [
              0.4444444444444444,
              "#bd3786"
             ],
             [
              0.5555555555555556,
              "#d8576b"
             ],
             [
              0.6666666666666666,
              "#ed7953"
             ],
             [
              0.7777777777777778,
              "#fb9f3a"
             ],
             [
              0.8888888888888888,
              "#fdca26"
             ],
             [
              1,
              "#f0f921"
             ]
            ],
            "type": "histogram2dcontour"
           }
          ],
          "mesh3d": [
           {
            "colorbar": {
             "outlinewidth": 0,
             "ticks": ""
            },
            "type": "mesh3d"
           }
          ],
          "parcoords": [
           {
            "line": {
             "colorbar": {
              "outlinewidth": 0,
              "ticks": ""
             }
            },
            "type": "parcoords"
           }
          ],
          "pie": [
           {
            "automargin": true,
            "type": "pie"
           }
          ],
          "scatter": [
           {
            "fillpattern": {
             "fillmode": "overlay",
             "size": 10,
             "solidity": 0.2
            },
            "type": "scatter"
           }
          ],
          "scatter3d": [
           {
            "line": {
             "colorbar": {
              "outlinewidth": 0,
              "ticks": ""
             }
            },
            "marker": {
             "colorbar": {
              "outlinewidth": 0,
              "ticks": ""
             }
            },
            "type": "scatter3d"
           }
          ],
          "scattercarpet": [
           {
            "marker": {
             "colorbar": {
              "outlinewidth": 0,
              "ticks": ""
             }
            },
            "type": "scattercarpet"
           }
          ],
          "scattergeo": [
           {
            "marker": {
             "colorbar": {
              "outlinewidth": 0,
              "ticks": ""
             }
            },
            "type": "scattergeo"
           }
          ],
          "scattergl": [
           {
            "marker": {
             "colorbar": {
              "outlinewidth": 0,
              "ticks": ""
             }
            },
            "type": "scattergl"
           }
          ],
          "scattermapbox": [
           {
            "marker": {
             "colorbar": {
              "outlinewidth": 0,
              "ticks": ""
             }
            },
            "type": "scattermapbox"
           }
          ],
          "scatterpolar": [
           {
            "marker": {
             "colorbar": {
              "outlinewidth": 0,
              "ticks": ""
             }
            },
            "type": "scatterpolar"
           }
          ],
          "scatterpolargl": [
           {
            "marker": {
             "colorbar": {
              "outlinewidth": 0,
              "ticks": ""
             }
            },
            "type": "scatterpolargl"
           }
          ],
          "scatterternary": [
           {
            "marker": {
             "colorbar": {
              "outlinewidth": 0,
              "ticks": ""
             }
            },
            "type": "scatterternary"
           }
          ],
          "surface": [
           {
            "colorbar": {
             "outlinewidth": 0,
             "ticks": ""
            },
            "colorscale": [
             [
              0,
              "#0d0887"
             ],
             [
              0.1111111111111111,
              "#46039f"
             ],
             [
              0.2222222222222222,
              "#7201a8"
             ],
             [
              0.3333333333333333,
              "#9c179e"
             ],
             [
              0.4444444444444444,
              "#bd3786"
             ],
             [
              0.5555555555555556,
              "#d8576b"
             ],
             [
              0.6666666666666666,
              "#ed7953"
             ],
             [
              0.7777777777777778,
              "#fb9f3a"
             ],
             [
              0.8888888888888888,
              "#fdca26"
             ],
             [
              1,
              "#f0f921"
             ]
            ],
            "type": "surface"
           }
          ],
          "table": [
           {
            "cells": {
             "fill": {
              "color": "#EBF0F8"
             },
             "line": {
              "color": "white"
             }
            },
            "header": {
             "fill": {
              "color": "#C8D4E3"
             },
             "line": {
              "color": "white"
             }
            },
            "type": "table"
           }
          ]
         },
         "layout": {
          "annotationdefaults": {
           "arrowcolor": "#2a3f5f",
           "arrowhead": 0,
           "arrowwidth": 1
          },
          "autotypenumbers": "strict",
          "coloraxis": {
           "colorbar": {
            "outlinewidth": 0,
            "ticks": ""
           }
          },
          "colorscale": {
           "diverging": [
            [
             0,
             "#8e0152"
            ],
            [
             0.1,
             "#c51b7d"
            ],
            [
             0.2,
             "#de77ae"
            ],
            [
             0.3,
             "#f1b6da"
            ],
            [
             0.4,
             "#fde0ef"
            ],
            [
             0.5,
             "#f7f7f7"
            ],
            [
             0.6,
             "#e6f5d0"
            ],
            [
             0.7,
             "#b8e186"
            ],
            [
             0.8,
             "#7fbc41"
            ],
            [
             0.9,
             "#4d9221"
            ],
            [
             1,
             "#276419"
            ]
           ],
           "sequential": [
            [
             0,
             "#0d0887"
            ],
            [
             0.1111111111111111,
             "#46039f"
            ],
            [
             0.2222222222222222,
             "#7201a8"
            ],
            [
             0.3333333333333333,
             "#9c179e"
            ],
            [
             0.4444444444444444,
             "#bd3786"
            ],
            [
             0.5555555555555556,
             "#d8576b"
            ],
            [
             0.6666666666666666,
             "#ed7953"
            ],
            [
             0.7777777777777778,
             "#fb9f3a"
            ],
            [
             0.8888888888888888,
             "#fdca26"
            ],
            [
             1,
             "#f0f921"
            ]
           ],
           "sequentialminus": [
            [
             0,
             "#0d0887"
            ],
            [
             0.1111111111111111,
             "#46039f"
            ],
            [
             0.2222222222222222,
             "#7201a8"
            ],
            [
             0.3333333333333333,
             "#9c179e"
            ],
            [
             0.4444444444444444,
             "#bd3786"
            ],
            [
             0.5555555555555556,
             "#d8576b"
            ],
            [
             0.6666666666666666,
             "#ed7953"
            ],
            [
             0.7777777777777778,
             "#fb9f3a"
            ],
            [
             0.8888888888888888,
             "#fdca26"
            ],
            [
             1,
             "#f0f921"
            ]
           ]
          },
          "colorway": [
           "#636efa",
           "#EF553B",
           "#00cc96",
           "#ab63fa",
           "#FFA15A",
           "#19d3f3",
           "#FF6692",
           "#B6E880",
           "#FF97FF",
           "#FECB52"
          ],
          "font": {
           "color": "#2a3f5f"
          },
          "geo": {
           "bgcolor": "white",
           "lakecolor": "white",
           "landcolor": "#E5ECF6",
           "showlakes": true,
           "showland": true,
           "subunitcolor": "white"
          },
          "hoverlabel": {
           "align": "left"
          },
          "hovermode": "closest",
          "mapbox": {
           "style": "light"
          },
          "paper_bgcolor": "white",
          "plot_bgcolor": "#E5ECF6",
          "polar": {
           "angularaxis": {
            "gridcolor": "white",
            "linecolor": "white",
            "ticks": ""
           },
           "bgcolor": "#E5ECF6",
           "radialaxis": {
            "gridcolor": "white",
            "linecolor": "white",
            "ticks": ""
           }
          },
          "scene": {
           "xaxis": {
            "backgroundcolor": "#E5ECF6",
            "gridcolor": "white",
            "gridwidth": 2,
            "linecolor": "white",
            "showbackground": true,
            "ticks": "",
            "zerolinecolor": "white"
           },
           "yaxis": {
            "backgroundcolor": "#E5ECF6",
            "gridcolor": "white",
            "gridwidth": 2,
            "linecolor": "white",
            "showbackground": true,
            "ticks": "",
            "zerolinecolor": "white"
           },
           "zaxis": {
            "backgroundcolor": "#E5ECF6",
            "gridcolor": "white",
            "gridwidth": 2,
            "linecolor": "white",
            "showbackground": true,
            "ticks": "",
            "zerolinecolor": "white"
           }
          },
          "shapedefaults": {
           "line": {
            "color": "#2a3f5f"
           }
          },
          "ternary": {
           "aaxis": {
            "gridcolor": "white",
            "linecolor": "white",
            "ticks": ""
           },
           "baxis": {
            "gridcolor": "white",
            "linecolor": "white",
            "ticks": ""
           },
           "bgcolor": "#E5ECF6",
           "caxis": {
            "gridcolor": "white",
            "linecolor": "white",
            "ticks": ""
           }
          },
          "title": {
           "x": 0.05
          },
          "xaxis": {
           "automargin": true,
           "gridcolor": "white",
           "linecolor": "white",
           "ticks": "",
           "title": {
            "standoff": 15
           },
           "zerolinecolor": "white",
           "zerolinewidth": 2
          },
          "yaxis": {
           "automargin": true,
           "gridcolor": "white",
           "linecolor": "white",
           "ticks": "",
           "title": {
            "standoff": 15
           },
           "zerolinecolor": "white",
           "zerolinewidth": 2
          }
         }
        },
        "title": {
         "text": "Distribution of Subsets within the Larger Set"
        }
       }
      }
     },
     "metadata": {},
     "output_type": "display_data"
    }
   ],
   "source": [
    "sizes = [addiction, no_addiction, 10000 - addiction - no_addiction]\n",
    "\n",
    "# Labels for the subsets\n",
    "labels = ['Addiction', 'No-addiction', 'Other']\n",
    "\n",
    "# Create an interactive pie chart\n",
    "fig = go.Figure(data=[go.Pie(labels=labels, values=sizes)])\n",
    "fig.update_traces(hoverinfo='label+percent', textinfo='value', textfont_size=20,\n",
    "                  marker=dict(colors=['gold', 'yellowgreen', 'lightcoral'], line=dict(color='#000000', width=2)))\n",
    "fig.update_layout(title_text=\"Distribution of Subsets within the Larger Set\")\n",
    "fig.show()"
   ]
  }
 ],
 "metadata": {
  "kernelspec": {
   "display_name": "base",
   "language": "python",
   "name": "python3"
  },
  "language_info": {
   "codemirror_mode": {
    "name": "ipython",
    "version": 3
   },
   "file_extension": ".py",
   "mimetype": "text/x-python",
   "name": "python",
   "nbconvert_exporter": "python",
   "pygments_lexer": "ipython3",
   "version": "3.9.7"
  }
 },
 "nbformat": 4,
 "nbformat_minor": 2
}
